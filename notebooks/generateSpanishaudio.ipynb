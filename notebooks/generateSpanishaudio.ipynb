{
 "cells": [
  {
   "cell_type": "code",
   "execution_count": null,
   "id": "884aed38",
   "metadata": {},
   "outputs": [],
   "source": [
    "!pip install TTS\n",
    "from TTS.api import TTS\n",
    "\n",
    "spanish_questions = [\n",
    "    \"¿Cuáles son mis valores de presión arterial hoy?\",\n",
    "    \"¿Cuáles fueron los valores de la última semana?\",\n",
    "    \"¿Cuál es la tendencia de mis valores?\",\n",
    "    \"¿Cuáles son los rangos normales para una persona como yo?\"\n",
    "]\n",
    "\n",
    "tts = TTS(model_name=\"tts_models/multilingual/multi-dataset/xtts_v2\", progress_bar=False, gpu=False)\n",
    "\n",
    "for i, q in enumerate(spanish_questions, 1):\n",
    "    tts.tts_to_file(text=q, speaker=\"es\", file_path=f\"q{i}_es.wav\")\n",
    "    print(f\"✅ Generated q{i}_es.wav\")\n"
   ]
  }
 ],
 "metadata": {
  "language_info": {
   "name": "python"
  }
 },
 "nbformat": 4,
 "nbformat_minor": 5
}
