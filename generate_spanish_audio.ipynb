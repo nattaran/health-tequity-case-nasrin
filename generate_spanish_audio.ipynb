{
  "nbformat": 4,
  "nbformat_minor": 0,
  "metadata": {
    "colab": {
      "provenance": [],
      "authorship_tag": "ABX9TyNJCGInkacJRlDxYjUkCwBt",
      "include_colab_link": true
    },
    "kernelspec": {
      "name": "python3",
      "display_name": "Python 3"
    },
    "language_info": {
      "name": "python"
    }
  },
  "cells": [
    {
      "cell_type": "markdown",
      "metadata": {
        "id": "view-in-github",
        "colab_type": "text"
      },
      "source": [
        "<a href=\"https://colab.research.google.com/github/nattaran/health-tequity-case-nasrin/blob/main/generate_spanish_audio.ipynb\" target=\"_parent\"><img src=\"https://colab.research.google.com/assets/colab-badge.svg\" alt=\"Open In Colab\"/></a>"
      ]
    },
    {
      "cell_type": "code",
      "source": [],
      "metadata": {
        "id": "sB2JqfudCNS_"
      },
      "execution_count": null,
      "outputs": []
    },
    {
      "cell_type": "code",
      "source": [
        "!pip install gTTS pydub\n",
        "\n",
        "from gtts import gTTS\n",
        "from pydub import AudioSegment\n",
        "\n",
        "spanish_questions = [\n",
        "    \"¿Cuáles son mis valores de presión arterial hoy?\",\n",
        "    \"¿Cuáles fueron los valores de la última semana?\",\n",
        "    \"¿Cuál es la tendencia de mis valores?\",\n",
        "    \"¿Cuáles son los rangos normales para una persona como yo?\"\n",
        "]\n",
        "\n",
        "for i, q in enumerate(spanish_questions, 1):\n",
        "    tts = gTTS(text=q, lang='es')\n",
        "    mp3_name = f\"q{i}_es.mp3\"\n",
        "    wav_name = f\"q{i}_es.wav\"\n",
        "    tts.save(mp3_name)\n",
        "    # convert to wav for ASR\n",
        "    AudioSegment.from_mp3(mp3_name).export(wav_name, format=\"wav\")\n",
        "    print(f\"✅ {wav_name} created\")\n"
      ],
      "metadata": {
        "colab": {
          "base_uri": "https://localhost:8080/"
        },
        "id": "wqx2vwfhCN-F",
        "outputId": "aad88717-96fe-4c1c-95ea-217df975b511"
      },
      "execution_count": null,
      "outputs": [
        {
          "output_type": "stream",
          "name": "stdout",
          "text": [
            "Requirement already satisfied: gTTS in /usr/local/lib/python3.12/dist-packages (2.5.4)\n",
            "Requirement already satisfied: pydub in /usr/local/lib/python3.12/dist-packages (0.25.1)\n",
            "Requirement already satisfied: requests<3,>=2.27 in /usr/local/lib/python3.12/dist-packages (from gTTS) (2.32.4)\n",
            "Requirement already satisfied: click<8.2,>=7.1 in /usr/local/lib/python3.12/dist-packages (from gTTS) (8.1.8)\n",
            "Requirement already satisfied: charset_normalizer<4,>=2 in /usr/local/lib/python3.12/dist-packages (from requests<3,>=2.27->gTTS) (3.4.3)\n",
            "Requirement already satisfied: idna<4,>=2.5 in /usr/local/lib/python3.12/dist-packages (from requests<3,>=2.27->gTTS) (3.10)\n",
            "Requirement already satisfied: urllib3<3,>=1.21.1 in /usr/local/lib/python3.12/dist-packages (from requests<3,>=2.27->gTTS) (2.5.0)\n",
            "Requirement already satisfied: certifi>=2017.4.17 in /usr/local/lib/python3.12/dist-packages (from requests<3,>=2.27->gTTS) (2025.10.5)\n",
            "✅ q1_es.wav created\n",
            "✅ q2_es.wav created\n",
            "✅ q3_es.wav created\n",
            "✅ q4_es.wav created\n"
          ]
        }
      ]
    },
    {
      "cell_type": "code",
      "source": [],
      "metadata": {
        "id": "CRC1SrSPG8Rx"
      },
      "execution_count": null,
      "outputs": []
    }
  ]
}