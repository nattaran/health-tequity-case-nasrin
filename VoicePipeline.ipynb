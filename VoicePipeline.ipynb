{
  "nbformat": 4,
  "nbformat_minor": 0,
  "metadata": {
    "colab": {
      "provenance": [],
      "gpuType": "T4",
      "runtime_attributes": {
        "runtime_version": "2025.07"
      },
      "authorship_tag": "ABX9TyPfzByTAcQ3ZJ0KXj//Tfv0",
      "include_colab_link": true
    },
    "kernelspec": {
      "name": "python3",
      "display_name": "Python 3"
    },
    "language_info": {
      "name": "python"
    },
    "accelerator": "GPU",
    "widgets": {
      "application/vnd.jupyter.widget-state+json": {
        "da102791b9324783a8ed2e65af41cec6": {
          "model_module": "@jupyter-widgets/controls",
          "model_name": "HBoxModel",
          "model_module_version": "1.5.0",
          "state": {
            "_dom_classes": [],
            "_model_module": "@jupyter-widgets/controls",
            "_model_module_version": "1.5.0",
            "_model_name": "HBoxModel",
            "_view_count": null,
            "_view_module": "@jupyter-widgets/controls",
            "_view_module_version": "1.5.0",
            "_view_name": "HBoxView",
            "box_style": "",
            "children": [
              "IPY_MODEL_d6e86e6092794f4194b457e9700c9826",
              "IPY_MODEL_6e2aace44166409b8863c1d752a37777",
              "IPY_MODEL_4d4f532603a84da4bea163d7759cd1ca"
            ],
            "layout": "IPY_MODEL_6cda3b2484d140fb9ebe0eb881e30297"
          }
        },
        "d6e86e6092794f4194b457e9700c9826": {
          "model_module": "@jupyter-widgets/controls",
          "model_name": "HTMLModel",
          "model_module_version": "1.5.0",
          "state": {
            "_dom_classes": [],
            "_model_module": "@jupyter-widgets/controls",
            "_model_module_version": "1.5.0",
            "_model_name": "HTMLModel",
            "_view_count": null,
            "_view_module": "@jupyter-widgets/controls",
            "_view_module_version": "1.5.0",
            "_view_name": "HTMLView",
            "description": "",
            "description_tooltip": null,
            "layout": "IPY_MODEL_837986ec29274e8eb26a1957315f1d20",
            "placeholder": "​",
            "style": "IPY_MODEL_b7ebb2d75dd74b5a820767881faa2300",
            "value": "tokenizer_config.json: "
          }
        },
        "6e2aace44166409b8863c1d752a37777": {
          "model_module": "@jupyter-widgets/controls",
          "model_name": "FloatProgressModel",
          "model_module_version": "1.5.0",
          "state": {
            "_dom_classes": [],
            "_model_module": "@jupyter-widgets/controls",
            "_model_module_version": "1.5.0",
            "_model_name": "FloatProgressModel",
            "_view_count": null,
            "_view_module": "@jupyter-widgets/controls",
            "_view_module_version": "1.5.0",
            "_view_name": "ProgressView",
            "bar_style": "success",
            "description": "",
            "description_tooltip": null,
            "layout": "IPY_MODEL_8f72cf06849f4f1998e0b67891c34c3a",
            "max": 1,
            "min": 0,
            "orientation": "horizontal",
            "style": "IPY_MODEL_25ab910f89f44d5d8a6fc00e99d0d795",
            "value": 1
          }
        },
        "4d4f532603a84da4bea163d7759cd1ca": {
          "model_module": "@jupyter-widgets/controls",
          "model_name": "HTMLModel",
          "model_module_version": "1.5.0",
          "state": {
            "_dom_classes": [],
            "_model_module": "@jupyter-widgets/controls",
            "_model_module_version": "1.5.0",
            "_model_name": "HTMLModel",
            "_view_count": null,
            "_view_module": "@jupyter-widgets/controls",
            "_view_module_version": "1.5.0",
            "_view_name": "HTMLView",
            "description": "",
            "description_tooltip": null,
            "layout": "IPY_MODEL_8e3ee790215446d984d9572c7faff036",
            "placeholder": "​",
            "style": "IPY_MODEL_304dd704b642418988b488110cb2ddfe",
            "value": " 141k/? [00:00&lt;00:00, 7.52MB/s]"
          }
        },
        "6cda3b2484d140fb9ebe0eb881e30297": {
          "model_module": "@jupyter-widgets/base",
          "model_name": "LayoutModel",
          "model_module_version": "1.2.0",
          "state": {
            "_model_module": "@jupyter-widgets/base",
            "_model_module_version": "1.2.0",
            "_model_name": "LayoutModel",
            "_view_count": null,
            "_view_module": "@jupyter-widgets/base",
            "_view_module_version": "1.2.0",
            "_view_name": "LayoutView",
            "align_content": null,
            "align_items": null,
            "align_self": null,
            "border": null,
            "bottom": null,
            "display": null,
            "flex": null,
            "flex_flow": null,
            "grid_area": null,
            "grid_auto_columns": null,
            "grid_auto_flow": null,
            "grid_auto_rows": null,
            "grid_column": null,
            "grid_gap": null,
            "grid_row": null,
            "grid_template_areas": null,
            "grid_template_columns": null,
            "grid_template_rows": null,
            "height": null,
            "justify_content": null,
            "justify_items": null,
            "left": null,
            "margin": null,
            "max_height": null,
            "max_width": null,
            "min_height": null,
            "min_width": null,
            "object_fit": null,
            "object_position": null,
            "order": null,
            "overflow": null,
            "overflow_x": null,
            "overflow_y": null,
            "padding": null,
            "right": null,
            "top": null,
            "visibility": null,
            "width": null
          }
        },
        "837986ec29274e8eb26a1957315f1d20": {
          "model_module": "@jupyter-widgets/base",
          "model_name": "LayoutModel",
          "model_module_version": "1.2.0",
          "state": {
            "_model_module": "@jupyter-widgets/base",
            "_model_module_version": "1.2.0",
            "_model_name": "LayoutModel",
            "_view_count": null,
            "_view_module": "@jupyter-widgets/base",
            "_view_module_version": "1.2.0",
            "_view_name": "LayoutView",
            "align_content": null,
            "align_items": null,
            "align_self": null,
            "border": null,
            "bottom": null,
            "display": null,
            "flex": null,
            "flex_flow": null,
            "grid_area": null,
            "grid_auto_columns": null,
            "grid_auto_flow": null,
            "grid_auto_rows": null,
            "grid_column": null,
            "grid_gap": null,
            "grid_row": null,
            "grid_template_areas": null,
            "grid_template_columns": null,
            "grid_template_rows": null,
            "height": null,
            "justify_content": null,
            "justify_items": null,
            "left": null,
            "margin": null,
            "max_height": null,
            "max_width": null,
            "min_height": null,
            "min_width": null,
            "object_fit": null,
            "object_position": null,
            "order": null,
            "overflow": null,
            "overflow_x": null,
            "overflow_y": null,
            "padding": null,
            "right": null,
            "top": null,
            "visibility": null,
            "width": null
          }
        },
        "b7ebb2d75dd74b5a820767881faa2300": {
          "model_module": "@jupyter-widgets/controls",
          "model_name": "DescriptionStyleModel",
          "model_module_version": "1.5.0",
          "state": {
            "_model_module": "@jupyter-widgets/controls",
            "_model_module_version": "1.5.0",
            "_model_name": "DescriptionStyleModel",
            "_view_count": null,
            "_view_module": "@jupyter-widgets/base",
            "_view_module_version": "1.2.0",
            "_view_name": "StyleView",
            "description_width": ""
          }
        },
        "8f72cf06849f4f1998e0b67891c34c3a": {
          "model_module": "@jupyter-widgets/base",
          "model_name": "LayoutModel",
          "model_module_version": "1.2.0",
          "state": {
            "_model_module": "@jupyter-widgets/base",
            "_model_module_version": "1.2.0",
            "_model_name": "LayoutModel",
            "_view_count": null,
            "_view_module": "@jupyter-widgets/base",
            "_view_module_version": "1.2.0",
            "_view_name": "LayoutView",
            "align_content": null,
            "align_items": null,
            "align_self": null,
            "border": null,
            "bottom": null,
            "display": null,
            "flex": null,
            "flex_flow": null,
            "grid_area": null,
            "grid_auto_columns": null,
            "grid_auto_flow": null,
            "grid_auto_rows": null,
            "grid_column": null,
            "grid_gap": null,
            "grid_row": null,
            "grid_template_areas": null,
            "grid_template_columns": null,
            "grid_template_rows": null,
            "height": null,
            "justify_content": null,
            "justify_items": null,
            "left": null,
            "margin": null,
            "max_height": null,
            "max_width": null,
            "min_height": null,
            "min_width": null,
            "object_fit": null,
            "object_position": null,
            "order": null,
            "overflow": null,
            "overflow_x": null,
            "overflow_y": null,
            "padding": null,
            "right": null,
            "top": null,
            "visibility": null,
            "width": "20px"
          }
        },
        "25ab910f89f44d5d8a6fc00e99d0d795": {
          "model_module": "@jupyter-widgets/controls",
          "model_name": "ProgressStyleModel",
          "model_module_version": "1.5.0",
          "state": {
            "_model_module": "@jupyter-widgets/controls",
            "_model_module_version": "1.5.0",
            "_model_name": "ProgressStyleModel",
            "_view_count": null,
            "_view_module": "@jupyter-widgets/base",
            "_view_module_version": "1.2.0",
            "_view_name": "StyleView",
            "bar_color": null,
            "description_width": ""
          }
        },
        "8e3ee790215446d984d9572c7faff036": {
          "model_module": "@jupyter-widgets/base",
          "model_name": "LayoutModel",
          "model_module_version": "1.2.0",
          "state": {
            "_model_module": "@jupyter-widgets/base",
            "_model_module_version": "1.2.0",
            "_model_name": "LayoutModel",
            "_view_count": null,
            "_view_module": "@jupyter-widgets/base",
            "_view_module_version": "1.2.0",
            "_view_name": "LayoutView",
            "align_content": null,
            "align_items": null,
            "align_self": null,
            "border": null,
            "bottom": null,
            "display": null,
            "flex": null,
            "flex_flow": null,
            "grid_area": null,
            "grid_auto_columns": null,
            "grid_auto_flow": null,
            "grid_auto_rows": null,
            "grid_column": null,
            "grid_gap": null,
            "grid_row": null,
            "grid_template_areas": null,
            "grid_template_columns": null,
            "grid_template_rows": null,
            "height": null,
            "justify_content": null,
            "justify_items": null,
            "left": null,
            "margin": null,
            "max_height": null,
            "max_width": null,
            "min_height": null,
            "min_width": null,
            "object_fit": null,
            "object_position": null,
            "order": null,
            "overflow": null,
            "overflow_x": null,
            "overflow_y": null,
            "padding": null,
            "right": null,
            "top": null,
            "visibility": null,
            "width": null
          }
        },
        "304dd704b642418988b488110cb2ddfe": {
          "model_module": "@jupyter-widgets/controls",
          "model_name": "DescriptionStyleModel",
          "model_module_version": "1.5.0",
          "state": {
            "_model_module": "@jupyter-widgets/controls",
            "_model_module_version": "1.5.0",
            "_model_name": "DescriptionStyleModel",
            "_view_count": null,
            "_view_module": "@jupyter-widgets/base",
            "_view_module_version": "1.2.0",
            "_view_name": "StyleView",
            "description_width": ""
          }
        },
        "224ac15c6333428f84b18f8a24e4989c": {
          "model_module": "@jupyter-widgets/controls",
          "model_name": "HBoxModel",
          "model_module_version": "1.5.0",
          "state": {
            "_dom_classes": [],
            "_model_module": "@jupyter-widgets/controls",
            "_model_module_version": "1.5.0",
            "_model_name": "HBoxModel",
            "_view_count": null,
            "_view_module": "@jupyter-widgets/controls",
            "_view_module_version": "1.5.0",
            "_view_name": "HBoxView",
            "box_style": "",
            "children": [
              "IPY_MODEL_60f7827554d94cf4ab94b8ae23a2196a",
              "IPY_MODEL_d3fa93a1bb9a4eec9c274b7db3174b47",
              "IPY_MODEL_7509edadead7494b9b31ae2025261537"
            ],
            "layout": "IPY_MODEL_fb902b63c44a4c2c9b010307dafb5fb9"
          }
        },
        "60f7827554d94cf4ab94b8ae23a2196a": {
          "model_module": "@jupyter-widgets/controls",
          "model_name": "HTMLModel",
          "model_module_version": "1.5.0",
          "state": {
            "_dom_classes": [],
            "_model_module": "@jupyter-widgets/controls",
            "_model_module_version": "1.5.0",
            "_model_name": "HTMLModel",
            "_view_count": null,
            "_view_module": "@jupyter-widgets/controls",
            "_view_module_version": "1.5.0",
            "_view_name": "HTMLView",
            "description": "",
            "description_tooltip": null,
            "layout": "IPY_MODEL_b80f4fecb087485894fb9264683abd35",
            "placeholder": "​",
            "style": "IPY_MODEL_d3c5571c945a49d49a382249b906f8f6",
            "value": "tokenizer.model: 100%"
          }
        },
        "d3fa93a1bb9a4eec9c274b7db3174b47": {
          "model_module": "@jupyter-widgets/controls",
          "model_name": "FloatProgressModel",
          "model_module_version": "1.5.0",
          "state": {
            "_dom_classes": [],
            "_model_module": "@jupyter-widgets/controls",
            "_model_module_version": "1.5.0",
            "_model_name": "FloatProgressModel",
            "_view_count": null,
            "_view_module": "@jupyter-widgets/controls",
            "_view_module_version": "1.5.0",
            "_view_name": "ProgressView",
            "bar_style": "success",
            "description": "",
            "description_tooltip": null,
            "layout": "IPY_MODEL_9933a777da824f14ba655cb35dae02e1",
            "max": 587404,
            "min": 0,
            "orientation": "horizontal",
            "style": "IPY_MODEL_2ee8cab02b2c49e2ae9370247d5c4552",
            "value": 587404
          }
        },
        "7509edadead7494b9b31ae2025261537": {
          "model_module": "@jupyter-widgets/controls",
          "model_name": "HTMLModel",
          "model_module_version": "1.5.0",
          "state": {
            "_dom_classes": [],
            "_model_module": "@jupyter-widgets/controls",
            "_model_module_version": "1.5.0",
            "_model_name": "HTMLModel",
            "_view_count": null,
            "_view_module": "@jupyter-widgets/controls",
            "_view_module_version": "1.5.0",
            "_view_name": "HTMLView",
            "description": "",
            "description_tooltip": null,
            "layout": "IPY_MODEL_386d8a0ff2e642ffb9afb92675c9564e",
            "placeholder": "​",
            "style": "IPY_MODEL_c2893604174f428aa19fe18b28ff8807",
            "value": " 587k/587k [00:01&lt;00:00, 308kB/s]"
          }
        },
        "fb902b63c44a4c2c9b010307dafb5fb9": {
          "model_module": "@jupyter-widgets/base",
          "model_name": "LayoutModel",
          "model_module_version": "1.2.0",
          "state": {
            "_model_module": "@jupyter-widgets/base",
            "_model_module_version": "1.2.0",
            "_model_name": "LayoutModel",
            "_view_count": null,
            "_view_module": "@jupyter-widgets/base",
            "_view_module_version": "1.2.0",
            "_view_name": "LayoutView",
            "align_content": null,
            "align_items": null,
            "align_self": null,
            "border": null,
            "bottom": null,
            "display": null,
            "flex": null,
            "flex_flow": null,
            "grid_area": null,
            "grid_auto_columns": null,
            "grid_auto_flow": null,
            "grid_auto_rows": null,
            "grid_column": null,
            "grid_gap": null,
            "grid_row": null,
            "grid_template_areas": null,
            "grid_template_columns": null,
            "grid_template_rows": null,
            "height": null,
            "justify_content": null,
            "justify_items": null,
            "left": null,
            "margin": null,
            "max_height": null,
            "max_width": null,
            "min_height": null,
            "min_width": null,
            "object_fit": null,
            "object_position": null,
            "order": null,
            "overflow": null,
            "overflow_x": null,
            "overflow_y": null,
            "padding": null,
            "right": null,
            "top": null,
            "visibility": null,
            "width": null
          }
        },
        "b80f4fecb087485894fb9264683abd35": {
          "model_module": "@jupyter-widgets/base",
          "model_name": "LayoutModel",
          "model_module_version": "1.2.0",
          "state": {
            "_model_module": "@jupyter-widgets/base",
            "_model_module_version": "1.2.0",
            "_model_name": "LayoutModel",
            "_view_count": null,
            "_view_module": "@jupyter-widgets/base",
            "_view_module_version": "1.2.0",
            "_view_name": "LayoutView",
            "align_content": null,
            "align_items": null,
            "align_self": null,
            "border": null,
            "bottom": null,
            "display": null,
            "flex": null,
            "flex_flow": null,
            "grid_area": null,
            "grid_auto_columns": null,
            "grid_auto_flow": null,
            "grid_auto_rows": null,
            "grid_column": null,
            "grid_gap": null,
            "grid_row": null,
            "grid_template_areas": null,
            "grid_template_columns": null,
            "grid_template_rows": null,
            "height": null,
            "justify_content": null,
            "justify_items": null,
            "left": null,
            "margin": null,
            "max_height": null,
            "max_width": null,
            "min_height": null,
            "min_width": null,
            "object_fit": null,
            "object_position": null,
            "order": null,
            "overflow": null,
            "overflow_x": null,
            "overflow_y": null,
            "padding": null,
            "right": null,
            "top": null,
            "visibility": null,
            "width": null
          }
        },
        "d3c5571c945a49d49a382249b906f8f6": {
          "model_module": "@jupyter-widgets/controls",
          "model_name": "DescriptionStyleModel",
          "model_module_version": "1.5.0",
          "state": {
            "_model_module": "@jupyter-widgets/controls",
            "_model_module_version": "1.5.0",
            "_model_name": "DescriptionStyleModel",
            "_view_count": null,
            "_view_module": "@jupyter-widgets/base",
            "_view_module_version": "1.2.0",
            "_view_name": "StyleView",
            "description_width": ""
          }
        },
        "9933a777da824f14ba655cb35dae02e1": {
          "model_module": "@jupyter-widgets/base",
          "model_name": "LayoutModel",
          "model_module_version": "1.2.0",
          "state": {
            "_model_module": "@jupyter-widgets/base",
            "_model_module_version": "1.2.0",
            "_model_name": "LayoutModel",
            "_view_count": null,
            "_view_module": "@jupyter-widgets/base",
            "_view_module_version": "1.2.0",
            "_view_name": "LayoutView",
            "align_content": null,
            "align_items": null,
            "align_self": null,
            "border": null,
            "bottom": null,
            "display": null,
            "flex": null,
            "flex_flow": null,
            "grid_area": null,
            "grid_auto_columns": null,
            "grid_auto_flow": null,
            "grid_auto_rows": null,
            "grid_column": null,
            "grid_gap": null,
            "grid_row": null,
            "grid_template_areas": null,
            "grid_template_columns": null,
            "grid_template_rows": null,
            "height": null,
            "justify_content": null,
            "justify_items": null,
            "left": null,
            "margin": null,
            "max_height": null,
            "max_width": null,
            "min_height": null,
            "min_width": null,
            "object_fit": null,
            "object_position": null,
            "order": null,
            "overflow": null,
            "overflow_x": null,
            "overflow_y": null,
            "padding": null,
            "right": null,
            "top": null,
            "visibility": null,
            "width": null
          }
        },
        "2ee8cab02b2c49e2ae9370247d5c4552": {
          "model_module": "@jupyter-widgets/controls",
          "model_name": "ProgressStyleModel",
          "model_module_version": "1.5.0",
          "state": {
            "_model_module": "@jupyter-widgets/controls",
            "_model_module_version": "1.5.0",
            "_model_name": "ProgressStyleModel",
            "_view_count": null,
            "_view_module": "@jupyter-widgets/base",
            "_view_module_version": "1.2.0",
            "_view_name": "StyleView",
            "bar_color": null,
            "description_width": ""
          }
        },
        "386d8a0ff2e642ffb9afb92675c9564e": {
          "model_module": "@jupyter-widgets/base",
          "model_name": "LayoutModel",
          "model_module_version": "1.2.0",
          "state": {
            "_model_module": "@jupyter-widgets/base",
            "_model_module_version": "1.2.0",
            "_model_name": "LayoutModel",
            "_view_count": null,
            "_view_module": "@jupyter-widgets/base",
            "_view_module_version": "1.2.0",
            "_view_name": "LayoutView",
            "align_content": null,
            "align_items": null,
            "align_self": null,
            "border": null,
            "bottom": null,
            "display": null,
            "flex": null,
            "flex_flow": null,
            "grid_area": null,
            "grid_auto_columns": null,
            "grid_auto_flow": null,
            "grid_auto_rows": null,
            "grid_column": null,
            "grid_gap": null,
            "grid_row": null,
            "grid_template_areas": null,
            "grid_template_columns": null,
            "grid_template_rows": null,
            "height": null,
            "justify_content": null,
            "justify_items": null,
            "left": null,
            "margin": null,
            "max_height": null,
            "max_width": null,
            "min_height": null,
            "min_width": null,
            "object_fit": null,
            "object_position": null,
            "order": null,
            "overflow": null,
            "overflow_x": null,
            "overflow_y": null,
            "padding": null,
            "right": null,
            "top": null,
            "visibility": null,
            "width": null
          }
        },
        "c2893604174f428aa19fe18b28ff8807": {
          "model_module": "@jupyter-widgets/controls",
          "model_name": "DescriptionStyleModel",
          "model_module_version": "1.5.0",
          "state": {
            "_model_module": "@jupyter-widgets/controls",
            "_model_module_version": "1.5.0",
            "_model_name": "DescriptionStyleModel",
            "_view_count": null,
            "_view_module": "@jupyter-widgets/base",
            "_view_module_version": "1.2.0",
            "_view_name": "StyleView",
            "description_width": ""
          }
        },
        "fe5afa0028a141d6a71501ce785f5e04": {
          "model_module": "@jupyter-widgets/controls",
          "model_name": "HBoxModel",
          "model_module_version": "1.5.0",
          "state": {
            "_dom_classes": [],
            "_model_module": "@jupyter-widgets/controls",
            "_model_module_version": "1.5.0",
            "_model_name": "HBoxModel",
            "_view_count": null,
            "_view_module": "@jupyter-widgets/controls",
            "_view_module_version": "1.5.0",
            "_view_name": "HBoxView",
            "box_style": "",
            "children": [
              "IPY_MODEL_06654ac720644c9f8d45b352d8770454",
              "IPY_MODEL_b2aee305da8f4f488cf427fb90a619a2",
              "IPY_MODEL_37b9c6f3f1d04b9099e7430d7eec8dfe"
            ],
            "layout": "IPY_MODEL_f9bdca0738fb4c9e9f1fd06e4db378cc"
          }
        },
        "06654ac720644c9f8d45b352d8770454": {
          "model_module": "@jupyter-widgets/controls",
          "model_name": "HTMLModel",
          "model_module_version": "1.5.0",
          "state": {
            "_dom_classes": [],
            "_model_module": "@jupyter-widgets/controls",
            "_model_module_version": "1.5.0",
            "_model_name": "HTMLModel",
            "_view_count": null,
            "_view_module": "@jupyter-widgets/controls",
            "_view_module_version": "1.5.0",
            "_view_name": "HTMLView",
            "description": "",
            "description_tooltip": null,
            "layout": "IPY_MODEL_89426526200947058653437596dd53df",
            "placeholder": "​",
            "style": "IPY_MODEL_5046c389cc924e0faaa3158b034841ee",
            "value": "tokenizer.json: "
          }
        },
        "b2aee305da8f4f488cf427fb90a619a2": {
          "model_module": "@jupyter-widgets/controls",
          "model_name": "FloatProgressModel",
          "model_module_version": "1.5.0",
          "state": {
            "_dom_classes": [],
            "_model_module": "@jupyter-widgets/controls",
            "_model_module_version": "1.5.0",
            "_model_name": "FloatProgressModel",
            "_view_count": null,
            "_view_module": "@jupyter-widgets/controls",
            "_view_module_version": "1.5.0",
            "_view_name": "ProgressView",
            "bar_style": "success",
            "description": "",
            "description_tooltip": null,
            "layout": "IPY_MODEL_38cf30649f844f4b8e2cedb7317aeb79",
            "max": 1,
            "min": 0,
            "orientation": "horizontal",
            "style": "IPY_MODEL_7b0c38a134aa420aa6fa826c5c3bd1e7",
            "value": 1
          }
        },
        "37b9c6f3f1d04b9099e7430d7eec8dfe": {
          "model_module": "@jupyter-widgets/controls",
          "model_name": "HTMLModel",
          "model_module_version": "1.5.0",
          "state": {
            "_dom_classes": [],
            "_model_module": "@jupyter-widgets/controls",
            "_model_module_version": "1.5.0",
            "_model_name": "HTMLModel",
            "_view_count": null,
            "_view_module": "@jupyter-widgets/controls",
            "_view_module_version": "1.5.0",
            "_view_name": "HTMLView",
            "description": "",
            "description_tooltip": null,
            "layout": "IPY_MODEL_e37922abe98f418b8c4cfbdf6c563f92",
            "placeholder": "​",
            "style": "IPY_MODEL_cf07494b239b40ee9119c5bb977ff662",
            "value": " 1.96M/? [00:00&lt;00:00, 45.6MB/s]"
          }
        },
        "f9bdca0738fb4c9e9f1fd06e4db378cc": {
          "model_module": "@jupyter-widgets/base",
          "model_name": "LayoutModel",
          "model_module_version": "1.2.0",
          "state": {
            "_model_module": "@jupyter-widgets/base",
            "_model_module_version": "1.2.0",
            "_model_name": "LayoutModel",
            "_view_count": null,
            "_view_module": "@jupyter-widgets/base",
            "_view_module_version": "1.2.0",
            "_view_name": "LayoutView",
            "align_content": null,
            "align_items": null,
            "align_self": null,
            "border": null,
            "bottom": null,
            "display": null,
            "flex": null,
            "flex_flow": null,
            "grid_area": null,
            "grid_auto_columns": null,
            "grid_auto_flow": null,
            "grid_auto_rows": null,
            "grid_column": null,
            "grid_gap": null,
            "grid_row": null,
            "grid_template_areas": null,
            "grid_template_columns": null,
            "grid_template_rows": null,
            "height": null,
            "justify_content": null,
            "justify_items": null,
            "left": null,
            "margin": null,
            "max_height": null,
            "max_width": null,
            "min_height": null,
            "min_width": null,
            "object_fit": null,
            "object_position": null,
            "order": null,
            "overflow": null,
            "overflow_x": null,
            "overflow_y": null,
            "padding": null,
            "right": null,
            "top": null,
            "visibility": null,
            "width": null
          }
        },
        "89426526200947058653437596dd53df": {
          "model_module": "@jupyter-widgets/base",
          "model_name": "LayoutModel",
          "model_module_version": "1.2.0",
          "state": {
            "_model_module": "@jupyter-widgets/base",
            "_model_module_version": "1.2.0",
            "_model_name": "LayoutModel",
            "_view_count": null,
            "_view_module": "@jupyter-widgets/base",
            "_view_module_version": "1.2.0",
            "_view_name": "LayoutView",
            "align_content": null,
            "align_items": null,
            "align_self": null,
            "border": null,
            "bottom": null,
            "display": null,
            "flex": null,
            "flex_flow": null,
            "grid_area": null,
            "grid_auto_columns": null,
            "grid_auto_flow": null,
            "grid_auto_rows": null,
            "grid_column": null,
            "grid_gap": null,
            "grid_row": null,
            "grid_template_areas": null,
            "grid_template_columns": null,
            "grid_template_rows": null,
            "height": null,
            "justify_content": null,
            "justify_items": null,
            "left": null,
            "margin": null,
            "max_height": null,
            "max_width": null,
            "min_height": null,
            "min_width": null,
            "object_fit": null,
            "object_position": null,
            "order": null,
            "overflow": null,
            "overflow_x": null,
            "overflow_y": null,
            "padding": null,
            "right": null,
            "top": null,
            "visibility": null,
            "width": null
          }
        },
        "5046c389cc924e0faaa3158b034841ee": {
          "model_module": "@jupyter-widgets/controls",
          "model_name": "DescriptionStyleModel",
          "model_module_version": "1.5.0",
          "state": {
            "_model_module": "@jupyter-widgets/controls",
            "_model_module_version": "1.5.0",
            "_model_name": "DescriptionStyleModel",
            "_view_count": null,
            "_view_module": "@jupyter-widgets/base",
            "_view_module_version": "1.2.0",
            "_view_name": "StyleView",
            "description_width": ""
          }
        },
        "38cf30649f844f4b8e2cedb7317aeb79": {
          "model_module": "@jupyter-widgets/base",
          "model_name": "LayoutModel",
          "model_module_version": "1.2.0",
          "state": {
            "_model_module": "@jupyter-widgets/base",
            "_model_module_version": "1.2.0",
            "_model_name": "LayoutModel",
            "_view_count": null,
            "_view_module": "@jupyter-widgets/base",
            "_view_module_version": "1.2.0",
            "_view_name": "LayoutView",
            "align_content": null,
            "align_items": null,
            "align_self": null,
            "border": null,
            "bottom": null,
            "display": null,
            "flex": null,
            "flex_flow": null,
            "grid_area": null,
            "grid_auto_columns": null,
            "grid_auto_flow": null,
            "grid_auto_rows": null,
            "grid_column": null,
            "grid_gap": null,
            "grid_row": null,
            "grid_template_areas": null,
            "grid_template_columns": null,
            "grid_template_rows": null,
            "height": null,
            "justify_content": null,
            "justify_items": null,
            "left": null,
            "margin": null,
            "max_height": null,
            "max_width": null,
            "min_height": null,
            "min_width": null,
            "object_fit": null,
            "object_position": null,
            "order": null,
            "overflow": null,
            "overflow_x": null,
            "overflow_y": null,
            "padding": null,
            "right": null,
            "top": null,
            "visibility": null,
            "width": "20px"
          }
        },
        "7b0c38a134aa420aa6fa826c5c3bd1e7": {
          "model_module": "@jupyter-widgets/controls",
          "model_name": "ProgressStyleModel",
          "model_module_version": "1.5.0",
          "state": {
            "_model_module": "@jupyter-widgets/controls",
            "_model_module_version": "1.5.0",
            "_model_name": "ProgressStyleModel",
            "_view_count": null,
            "_view_module": "@jupyter-widgets/base",
            "_view_module_version": "1.2.0",
            "_view_name": "StyleView",
            "bar_color": null,
            "description_width": ""
          }
        },
        "e37922abe98f418b8c4cfbdf6c563f92": {
          "model_module": "@jupyter-widgets/base",
          "model_name": "LayoutModel",
          "model_module_version": "1.2.0",
          "state": {
            "_model_module": "@jupyter-widgets/base",
            "_model_module_version": "1.2.0",
            "_model_name": "LayoutModel",
            "_view_count": null,
            "_view_module": "@jupyter-widgets/base",
            "_view_module_version": "1.2.0",
            "_view_name": "LayoutView",
            "align_content": null,
            "align_items": null,
            "align_self": null,
            "border": null,
            "bottom": null,
            "display": null,
            "flex": null,
            "flex_flow": null,
            "grid_area": null,
            "grid_auto_columns": null,
            "grid_auto_flow": null,
            "grid_auto_rows": null,
            "grid_column": null,
            "grid_gap": null,
            "grid_row": null,
            "grid_template_areas": null,
            "grid_template_columns": null,
            "grid_template_rows": null,
            "height": null,
            "justify_content": null,
            "justify_items": null,
            "left": null,
            "margin": null,
            "max_height": null,
            "max_width": null,
            "min_height": null,
            "min_width": null,
            "object_fit": null,
            "object_position": null,
            "order": null,
            "overflow": null,
            "overflow_x": null,
            "overflow_y": null,
            "padding": null,
            "right": null,
            "top": null,
            "visibility": null,
            "width": null
          }
        },
        "cf07494b239b40ee9119c5bb977ff662": {
          "model_module": "@jupyter-widgets/controls",
          "model_name": "DescriptionStyleModel",
          "model_module_version": "1.5.0",
          "state": {
            "_model_module": "@jupyter-widgets/controls",
            "_model_module_version": "1.5.0",
            "_model_name": "DescriptionStyleModel",
            "_view_count": null,
            "_view_module": "@jupyter-widgets/base",
            "_view_module_version": "1.2.0",
            "_view_name": "StyleView",
            "description_width": ""
          }
        },
        "4ea4d85d903b4ce4ba8709045647be9c": {
          "model_module": "@jupyter-widgets/controls",
          "model_name": "HBoxModel",
          "model_module_version": "1.5.0",
          "state": {
            "_dom_classes": [],
            "_model_module": "@jupyter-widgets/controls",
            "_model_module_version": "1.5.0",
            "_model_name": "HBoxModel",
            "_view_count": null,
            "_view_module": "@jupyter-widgets/controls",
            "_view_module_version": "1.5.0",
            "_view_name": "HBoxView",
            "box_style": "",
            "children": [
              "IPY_MODEL_ac220350246f48cd8e483be814d000d8",
              "IPY_MODEL_f8123c71f6ff4fd39a06b03cb76b4624",
              "IPY_MODEL_6d240a89ee4d496cacf6cc4b662ec20c"
            ],
            "layout": "IPY_MODEL_f817ee69bbb04bfca8052d24c6dbf48a"
          }
        },
        "ac220350246f48cd8e483be814d000d8": {
          "model_module": "@jupyter-widgets/controls",
          "model_name": "HTMLModel",
          "model_module_version": "1.5.0",
          "state": {
            "_dom_classes": [],
            "_model_module": "@jupyter-widgets/controls",
            "_model_module_version": "1.5.0",
            "_model_name": "HTMLModel",
            "_view_count": null,
            "_view_module": "@jupyter-widgets/controls",
            "_view_module_version": "1.5.0",
            "_view_name": "HTMLView",
            "description": "",
            "description_tooltip": null,
            "layout": "IPY_MODEL_cc268964709f451bbd357bc3af36178e",
            "placeholder": "​",
            "style": "IPY_MODEL_d5d8bdb9095e4624bb1c92d1cb045ac3",
            "value": "special_tokens_map.json: 100%"
          }
        },
        "f8123c71f6ff4fd39a06b03cb76b4624": {
          "model_module": "@jupyter-widgets/controls",
          "model_name": "FloatProgressModel",
          "model_module_version": "1.5.0",
          "state": {
            "_dom_classes": [],
            "_model_module": "@jupyter-widgets/controls",
            "_model_module_version": "1.5.0",
            "_model_name": "FloatProgressModel",
            "_view_count": null,
            "_view_module": "@jupyter-widgets/controls",
            "_view_module_version": "1.5.0",
            "_view_name": "ProgressView",
            "bar_style": "success",
            "description": "",
            "description_tooltip": null,
            "layout": "IPY_MODEL_03156671f5634d04b41f324d092c8de8",
            "max": 414,
            "min": 0,
            "orientation": "horizontal",
            "style": "IPY_MODEL_d0e41e6b82e24d51bc666f544d9329d1",
            "value": 414
          }
        },
        "6d240a89ee4d496cacf6cc4b662ec20c": {
          "model_module": "@jupyter-widgets/controls",
          "model_name": "HTMLModel",
          "model_module_version": "1.5.0",
          "state": {
            "_dom_classes": [],
            "_model_module": "@jupyter-widgets/controls",
            "_model_module_version": "1.5.0",
            "_model_name": "HTMLModel",
            "_view_count": null,
            "_view_module": "@jupyter-widgets/controls",
            "_view_module_version": "1.5.0",
            "_view_name": "HTMLView",
            "description": "",
            "description_tooltip": null,
            "layout": "IPY_MODEL_b3130ea0022a427d94549609f66612f3",
            "placeholder": "​",
            "style": "IPY_MODEL_81e268d2acb94cc095364d5fec258595",
            "value": " 414/414 [00:00&lt;00:00, 42.0kB/s]"
          }
        },
        "f817ee69bbb04bfca8052d24c6dbf48a": {
          "model_module": "@jupyter-widgets/base",
          "model_name": "LayoutModel",
          "model_module_version": "1.2.0",
          "state": {
            "_model_module": "@jupyter-widgets/base",
            "_model_module_version": "1.2.0",
            "_model_name": "LayoutModel",
            "_view_count": null,
            "_view_module": "@jupyter-widgets/base",
            "_view_module_version": "1.2.0",
            "_view_name": "LayoutView",
            "align_content": null,
            "align_items": null,
            "align_self": null,
            "border": null,
            "bottom": null,
            "display": null,
            "flex": null,
            "flex_flow": null,
            "grid_area": null,
            "grid_auto_columns": null,
            "grid_auto_flow": null,
            "grid_auto_rows": null,
            "grid_column": null,
            "grid_gap": null,
            "grid_row": null,
            "grid_template_areas": null,
            "grid_template_columns": null,
            "grid_template_rows": null,
            "height": null,
            "justify_content": null,
            "justify_items": null,
            "left": null,
            "margin": null,
            "max_height": null,
            "max_width": null,
            "min_height": null,
            "min_width": null,
            "object_fit": null,
            "object_position": null,
            "order": null,
            "overflow": null,
            "overflow_x": null,
            "overflow_y": null,
            "padding": null,
            "right": null,
            "top": null,
            "visibility": null,
            "width": null
          }
        },
        "cc268964709f451bbd357bc3af36178e": {
          "model_module": "@jupyter-widgets/base",
          "model_name": "LayoutModel",
          "model_module_version": "1.2.0",
          "state": {
            "_model_module": "@jupyter-widgets/base",
            "_model_module_version": "1.2.0",
            "_model_name": "LayoutModel",
            "_view_count": null,
            "_view_module": "@jupyter-widgets/base",
            "_view_module_version": "1.2.0",
            "_view_name": "LayoutView",
            "align_content": null,
            "align_items": null,
            "align_self": null,
            "border": null,
            "bottom": null,
            "display": null,
            "flex": null,
            "flex_flow": null,
            "grid_area": null,
            "grid_auto_columns": null,
            "grid_auto_flow": null,
            "grid_auto_rows": null,
            "grid_column": null,
            "grid_gap": null,
            "grid_row": null,
            "grid_template_areas": null,
            "grid_template_columns": null,
            "grid_template_rows": null,
            "height": null,
            "justify_content": null,
            "justify_items": null,
            "left": null,
            "margin": null,
            "max_height": null,
            "max_width": null,
            "min_height": null,
            "min_width": null,
            "object_fit": null,
            "object_position": null,
            "order": null,
            "overflow": null,
            "overflow_x": null,
            "overflow_y": null,
            "padding": null,
            "right": null,
            "top": null,
            "visibility": null,
            "width": null
          }
        },
        "d5d8bdb9095e4624bb1c92d1cb045ac3": {
          "model_module": "@jupyter-widgets/controls",
          "model_name": "DescriptionStyleModel",
          "model_module_version": "1.5.0",
          "state": {
            "_model_module": "@jupyter-widgets/controls",
            "_model_module_version": "1.5.0",
            "_model_name": "DescriptionStyleModel",
            "_view_count": null,
            "_view_module": "@jupyter-widgets/base",
            "_view_module_version": "1.2.0",
            "_view_name": "StyleView",
            "description_width": ""
          }
        },
        "03156671f5634d04b41f324d092c8de8": {
          "model_module": "@jupyter-widgets/base",
          "model_name": "LayoutModel",
          "model_module_version": "1.2.0",
          "state": {
            "_model_module": "@jupyter-widgets/base",
            "_model_module_version": "1.2.0",
            "_model_name": "LayoutModel",
            "_view_count": null,
            "_view_module": "@jupyter-widgets/base",
            "_view_module_version": "1.2.0",
            "_view_name": "LayoutView",
            "align_content": null,
            "align_items": null,
            "align_self": null,
            "border": null,
            "bottom": null,
            "display": null,
            "flex": null,
            "flex_flow": null,
            "grid_area": null,
            "grid_auto_columns": null,
            "grid_auto_flow": null,
            "grid_auto_rows": null,
            "grid_column": null,
            "grid_gap": null,
            "grid_row": null,
            "grid_template_areas": null,
            "grid_template_columns": null,
            "grid_template_rows": null,
            "height": null,
            "justify_content": null,
            "justify_items": null,
            "left": null,
            "margin": null,
            "max_height": null,
            "max_width": null,
            "min_height": null,
            "min_width": null,
            "object_fit": null,
            "object_position": null,
            "order": null,
            "overflow": null,
            "overflow_x": null,
            "overflow_y": null,
            "padding": null,
            "right": null,
            "top": null,
            "visibility": null,
            "width": null
          }
        },
        "d0e41e6b82e24d51bc666f544d9329d1": {
          "model_module": "@jupyter-widgets/controls",
          "model_name": "ProgressStyleModel",
          "model_module_version": "1.5.0",
          "state": {
            "_model_module": "@jupyter-widgets/controls",
            "_model_module_version": "1.5.0",
            "_model_name": "ProgressStyleModel",
            "_view_count": null,
            "_view_module": "@jupyter-widgets/base",
            "_view_module_version": "1.2.0",
            "_view_name": "StyleView",
            "bar_color": null,
            "description_width": ""
          }
        },
        "b3130ea0022a427d94549609f66612f3": {
          "model_module": "@jupyter-widgets/base",
          "model_name": "LayoutModel",
          "model_module_version": "1.2.0",
          "state": {
            "_model_module": "@jupyter-widgets/base",
            "_model_module_version": "1.2.0",
            "_model_name": "LayoutModel",
            "_view_count": null,
            "_view_module": "@jupyter-widgets/base",
            "_view_module_version": "1.2.0",
            "_view_name": "LayoutView",
            "align_content": null,
            "align_items": null,
            "align_self": null,
            "border": null,
            "bottom": null,
            "display": null,
            "flex": null,
            "flex_flow": null,
            "grid_area": null,
            "grid_auto_columns": null,
            "grid_auto_flow": null,
            "grid_auto_rows": null,
            "grid_column": null,
            "grid_gap": null,
            "grid_row": null,
            "grid_template_areas": null,
            "grid_template_columns": null,
            "grid_template_rows": null,
            "height": null,
            "justify_content": null,
            "justify_items": null,
            "left": null,
            "margin": null,
            "max_height": null,
            "max_width": null,
            "min_height": null,
            "min_width": null,
            "object_fit": null,
            "object_position": null,
            "order": null,
            "overflow": null,
            "overflow_x": null,
            "overflow_y": null,
            "padding": null,
            "right": null,
            "top": null,
            "visibility": null,
            "width": null
          }
        },
        "81e268d2acb94cc095364d5fec258595": {
          "model_module": "@jupyter-widgets/controls",
          "model_name": "DescriptionStyleModel",
          "model_module_version": "1.5.0",
          "state": {
            "_model_module": "@jupyter-widgets/controls",
            "_model_module_version": "1.5.0",
            "_model_name": "DescriptionStyleModel",
            "_view_count": null,
            "_view_module": "@jupyter-widgets/base",
            "_view_module_version": "1.2.0",
            "_view_name": "StyleView",
            "description_width": ""
          }
        },
        "300c03e0836d4523b8d7c325bf5bc127": {
          "model_module": "@jupyter-widgets/controls",
          "model_name": "HBoxModel",
          "model_module_version": "1.5.0",
          "state": {
            "_dom_classes": [],
            "_model_module": "@jupyter-widgets/controls",
            "_model_module_version": "1.5.0",
            "_model_name": "HBoxModel",
            "_view_count": null,
            "_view_module": "@jupyter-widgets/controls",
            "_view_module_version": "1.5.0",
            "_view_name": "HBoxView",
            "box_style": "",
            "children": [
              "IPY_MODEL_d2ba8f643cd04a4698dfcb7713c45108",
              "IPY_MODEL_a2405c2ac12941f08ae61885ef1478ed",
              "IPY_MODEL_c10e937f1908407f926f0363b0c8503f"
            ],
            "layout": "IPY_MODEL_b20c763b7d4a4d278b9bbdab67330b06"
          }
        },
        "d2ba8f643cd04a4698dfcb7713c45108": {
          "model_module": "@jupyter-widgets/controls",
          "model_name": "HTMLModel",
          "model_module_version": "1.5.0",
          "state": {
            "_dom_classes": [],
            "_model_module": "@jupyter-widgets/controls",
            "_model_module_version": "1.5.0",
            "_model_name": "HTMLModel",
            "_view_count": null,
            "_view_module": "@jupyter-widgets/controls",
            "_view_module_version": "1.5.0",
            "_view_name": "HTMLView",
            "description": "",
            "description_tooltip": null,
            "layout": "IPY_MODEL_f7ffc6402f3f4b38a75f4a144f976693",
            "placeholder": "​",
            "style": "IPY_MODEL_8611ed99790e4c07853b4caa5981016f",
            "value": "config.json: 100%"
          }
        },
        "a2405c2ac12941f08ae61885ef1478ed": {
          "model_module": "@jupyter-widgets/controls",
          "model_name": "FloatProgressModel",
          "model_module_version": "1.5.0",
          "state": {
            "_dom_classes": [],
            "_model_module": "@jupyter-widgets/controls",
            "_model_module_version": "1.5.0",
            "_model_name": "FloatProgressModel",
            "_view_count": null,
            "_view_module": "@jupyter-widgets/controls",
            "_view_module_version": "1.5.0",
            "_view_name": "ProgressView",
            "bar_style": "success",
            "description": "",
            "description_tooltip": null,
            "layout": "IPY_MODEL_ca6847f8d5754efea706f77a6ad5c97b",
            "max": 601,
            "min": 0,
            "orientation": "horizontal",
            "style": "IPY_MODEL_e572d048ee4f4f109eb109212dc222be",
            "value": 601
          }
        },
        "c10e937f1908407f926f0363b0c8503f": {
          "model_module": "@jupyter-widgets/controls",
          "model_name": "HTMLModel",
          "model_module_version": "1.5.0",
          "state": {
            "_dom_classes": [],
            "_model_module": "@jupyter-widgets/controls",
            "_model_module_version": "1.5.0",
            "_model_name": "HTMLModel",
            "_view_count": null,
            "_view_module": "@jupyter-widgets/controls",
            "_view_module_version": "1.5.0",
            "_view_name": "HTMLView",
            "description": "",
            "description_tooltip": null,
            "layout": "IPY_MODEL_1d8925e45a8d4e9ab31f4ca3afc5e496",
            "placeholder": "​",
            "style": "IPY_MODEL_e057d8bcb20041baae1a4d02ef0ef249",
            "value": " 601/601 [00:00&lt;00:00, 47.8kB/s]"
          }
        },
        "b20c763b7d4a4d278b9bbdab67330b06": {
          "model_module": "@jupyter-widgets/base",
          "model_name": "LayoutModel",
          "model_module_version": "1.2.0",
          "state": {
            "_model_module": "@jupyter-widgets/base",
            "_model_module_version": "1.2.0",
            "_model_name": "LayoutModel",
            "_view_count": null,
            "_view_module": "@jupyter-widgets/base",
            "_view_module_version": "1.2.0",
            "_view_name": "LayoutView",
            "align_content": null,
            "align_items": null,
            "align_self": null,
            "border": null,
            "bottom": null,
            "display": null,
            "flex": null,
            "flex_flow": null,
            "grid_area": null,
            "grid_auto_columns": null,
            "grid_auto_flow": null,
            "grid_auto_rows": null,
            "grid_column": null,
            "grid_gap": null,
            "grid_row": null,
            "grid_template_areas": null,
            "grid_template_columns": null,
            "grid_template_rows": null,
            "height": null,
            "justify_content": null,
            "justify_items": null,
            "left": null,
            "margin": null,
            "max_height": null,
            "max_width": null,
            "min_height": null,
            "min_width": null,
            "object_fit": null,
            "object_position": null,
            "order": null,
            "overflow": null,
            "overflow_x": null,
            "overflow_y": null,
            "padding": null,
            "right": null,
            "top": null,
            "visibility": null,
            "width": null
          }
        },
        "f7ffc6402f3f4b38a75f4a144f976693": {
          "model_module": "@jupyter-widgets/base",
          "model_name": "LayoutModel",
          "model_module_version": "1.2.0",
          "state": {
            "_model_module": "@jupyter-widgets/base",
            "_model_module_version": "1.2.0",
            "_model_name": "LayoutModel",
            "_view_count": null,
            "_view_module": "@jupyter-widgets/base",
            "_view_module_version": "1.2.0",
            "_view_name": "LayoutView",
            "align_content": null,
            "align_items": null,
            "align_self": null,
            "border": null,
            "bottom": null,
            "display": null,
            "flex": null,
            "flex_flow": null,
            "grid_area": null,
            "grid_auto_columns": null,
            "grid_auto_flow": null,
            "grid_auto_rows": null,
            "grid_column": null,
            "grid_gap": null,
            "grid_row": null,
            "grid_template_areas": null,
            "grid_template_columns": null,
            "grid_template_rows": null,
            "height": null,
            "justify_content": null,
            "justify_items": null,
            "left": null,
            "margin": null,
            "max_height": null,
            "max_width": null,
            "min_height": null,
            "min_width": null,
            "object_fit": null,
            "object_position": null,
            "order": null,
            "overflow": null,
            "overflow_x": null,
            "overflow_y": null,
            "padding": null,
            "right": null,
            "top": null,
            "visibility": null,
            "width": null
          }
        },
        "8611ed99790e4c07853b4caa5981016f": {
          "model_module": "@jupyter-widgets/controls",
          "model_name": "DescriptionStyleModel",
          "model_module_version": "1.5.0",
          "state": {
            "_model_module": "@jupyter-widgets/controls",
            "_model_module_version": "1.5.0",
            "_model_name": "DescriptionStyleModel",
            "_view_count": null,
            "_view_module": "@jupyter-widgets/base",
            "_view_module_version": "1.2.0",
            "_view_name": "StyleView",
            "description_width": ""
          }
        },
        "ca6847f8d5754efea706f77a6ad5c97b": {
          "model_module": "@jupyter-widgets/base",
          "model_name": "LayoutModel",
          "model_module_version": "1.2.0",
          "state": {
            "_model_module": "@jupyter-widgets/base",
            "_model_module_version": "1.2.0",
            "_model_name": "LayoutModel",
            "_view_count": null,
            "_view_module": "@jupyter-widgets/base",
            "_view_module_version": "1.2.0",
            "_view_name": "LayoutView",
            "align_content": null,
            "align_items": null,
            "align_self": null,
            "border": null,
            "bottom": null,
            "display": null,
            "flex": null,
            "flex_flow": null,
            "grid_area": null,
            "grid_auto_columns": null,
            "grid_auto_flow": null,
            "grid_auto_rows": null,
            "grid_column": null,
            "grid_gap": null,
            "grid_row": null,
            "grid_template_areas": null,
            "grid_template_columns": null,
            "grid_template_rows": null,
            "height": null,
            "justify_content": null,
            "justify_items": null,
            "left": null,
            "margin": null,
            "max_height": null,
            "max_width": null,
            "min_height": null,
            "min_width": null,
            "object_fit": null,
            "object_position": null,
            "order": null,
            "overflow": null,
            "overflow_x": null,
            "overflow_y": null,
            "padding": null,
            "right": null,
            "top": null,
            "visibility": null,
            "width": null
          }
        },
        "e572d048ee4f4f109eb109212dc222be": {
          "model_module": "@jupyter-widgets/controls",
          "model_name": "ProgressStyleModel",
          "model_module_version": "1.5.0",
          "state": {
            "_model_module": "@jupyter-widgets/controls",
            "_model_module_version": "1.5.0",
            "_model_name": "ProgressStyleModel",
            "_view_count": null,
            "_view_module": "@jupyter-widgets/base",
            "_view_module_version": "1.2.0",
            "_view_name": "StyleView",
            "bar_color": null,
            "description_width": ""
          }
        },
        "1d8925e45a8d4e9ab31f4ca3afc5e496": {
          "model_module": "@jupyter-widgets/base",
          "model_name": "LayoutModel",
          "model_module_version": "1.2.0",
          "state": {
            "_model_module": "@jupyter-widgets/base",
            "_model_module_version": "1.2.0",
            "_model_name": "LayoutModel",
            "_view_count": null,
            "_view_module": "@jupyter-widgets/base",
            "_view_module_version": "1.2.0",
            "_view_name": "LayoutView",
            "align_content": null,
            "align_items": null,
            "align_self": null,
            "border": null,
            "bottom": null,
            "display": null,
            "flex": null,
            "flex_flow": null,
            "grid_area": null,
            "grid_auto_columns": null,
            "grid_auto_flow": null,
            "grid_auto_rows": null,
            "grid_column": null,
            "grid_gap": null,
            "grid_row": null,
            "grid_template_areas": null,
            "grid_template_columns": null,
            "grid_template_rows": null,
            "height": null,
            "justify_content": null,
            "justify_items": null,
            "left": null,
            "margin": null,
            "max_height": null,
            "max_width": null,
            "min_height": null,
            "min_width": null,
            "object_fit": null,
            "object_position": null,
            "order": null,
            "overflow": null,
            "overflow_x": null,
            "overflow_y": null,
            "padding": null,
            "right": null,
            "top": null,
            "visibility": null,
            "width": null
          }
        },
        "e057d8bcb20041baae1a4d02ef0ef249": {
          "model_module": "@jupyter-widgets/controls",
          "model_name": "DescriptionStyleModel",
          "model_module_version": "1.5.0",
          "state": {
            "_model_module": "@jupyter-widgets/controls",
            "_model_module_version": "1.5.0",
            "_model_name": "DescriptionStyleModel",
            "_view_count": null,
            "_view_module": "@jupyter-widgets/base",
            "_view_module_version": "1.2.0",
            "_view_name": "StyleView",
            "description_width": ""
          }
        }
      }
    }
  },
  "cells": [
    {
      "cell_type": "markdown",
      "metadata": {
        "id": "view-in-github",
        "colab_type": "text"
      },
      "source": [
        "<a href=\"https://colab.research.google.com/github/nattaran/health-tequity-case-nasrin/blob/main/VoicePipeline.ipynb\" target=\"_parent\"><img src=\"https://colab.research.google.com/assets/colab-badge.svg\" alt=\"Open In Colab\"/></a>"
      ]
    },
    {
      "cell_type": "code",
      "execution_count": null,
      "metadata": {
        "id": "Z8Rx35TvT1uu"
      },
      "outputs": [],
      "source": []
    },
    {
      "cell_type": "markdown",
      "source": [
        "**Mount Google Drive**"
      ],
      "metadata": {
        "id": "SCqyFkqgbMzP"
      }
    },
    {
      "cell_type": "code",
      "source": [
        "from google.colab import drive\n",
        "drive.mount('/content/drive')\n"
      ],
      "metadata": {
        "colab": {
          "base_uri": "https://localhost:8080/"
        },
        "id": "Fk0od9nwapa6",
        "outputId": "34960b02-d22d-4dcc-8800-aac997ab3c11"
      },
      "execution_count": null,
      "outputs": [
        {
          "output_type": "stream",
          "name": "stdout",
          "text": [
            "Drive already mounted at /content/drive; to attempt to forcibly remount, call drive.mount(\"/content/drive\", force_remount=True).\n"
          ]
        }
      ]
    },
    {
      "cell_type": "markdown",
      "source": [],
      "metadata": {
        "id": "fZGunFw-bvKE"
      }
    },
    {
      "cell_type": "markdown",
      "source": [
        "**Set Working Directory**"
      ],
      "metadata": {
        "id": "3Uj2QQHdbvM7"
      }
    },
    {
      "cell_type": "code",
      "source": [
        "import os\n",
        "\n",
        "# Update this path to match your Google Drive folder\n",
        "BASE_DIR = '/content/drive/MyDrive/health-tequity-case'\n",
        "os.chdir(BASE_DIR)\n",
        "\n",
        "# Verify\n",
        "print(f\"✅ Current directory: {os.getcwd()}\")\n",
        "print(f\"📁 Files in directory: {os.listdir('.')}\")"
      ],
      "metadata": {
        "colab": {
          "base_uri": "https://localhost:8080/"
        },
        "id": "nN9RP39Ra-3Q",
        "outputId": "b0009eb2-34db-4aa0-f742-679246b9953b"
      },
      "execution_count": null,
      "outputs": [
        {
          "output_type": "stream",
          "name": "stdout",
          "text": [
            "✅ Current directory: /content/drive/MyDrive/health-tequity-case\n",
            "📁 Files in directory: ['Input_Audio_Files', 'Output_Audio_Files', 'Data', 'whisper_transcriptions_with_errors.csv', 'transcriptions_only.csv', 'error_rates_summary.csv']\n"
          ]
        }
      ]
    },
    {
      "cell_type": "markdown",
      "source": [
        "**install Required Packages**\n",
        "\n",
        "\n",
        "\n",
        "\n",
        "\n",
        "\n",
        "\n",
        "\n",
        "\n",
        "\n",
        "\n",
        "\n"
      ],
      "metadata": {
        "id": "HBC5oZPzcJ0j"
      }
    },
    {
      "cell_type": "code",
      "source": [
        "# Install packages\n",
        "!pip install -q openai-whisper\n",
        "!pip install -q git+https://github.com/openai/whisper.git\n",
        "!pip install -q librosa soundfile\n",
        "!pip install -q deep-translator\n",
        "!pip install -q gtts\n",
        "!pip install -q jiwer\n",
        "\n",
        "print(\"✅ All packages installed successfully!\")"
      ],
      "metadata": {
        "colab": {
          "base_uri": "https://localhost:8080/"
        },
        "id": "O_KHF0LbXdm7",
        "outputId": "3b4fb540-432d-41ec-952b-bc10d8edfe6d"
      },
      "execution_count": null,
      "outputs": [
        {
          "output_type": "stream",
          "name": "stdout",
          "text": [
            "  Installing build dependencies ... \u001b[?25l\u001b[?25hdone\n",
            "  Getting requirements to build wheel ... \u001b[?25l\u001b[?25hdone\n",
            "  Preparing metadata (pyproject.toml) ... \u001b[?25l\u001b[?25hdone\n",
            "✅ All packages installed successfully!\n"
          ]
        }
      ]
    },
    {
      "cell_type": "markdown",
      "source": [
        "**Import Libraries **"
      ],
      "metadata": {
        "id": "IGlBpc6sdTuD"
      }
    },
    {
      "cell_type": "code",
      "source": [
        "import whisper\n",
        "import os\n",
        "import pandas as pd\n",
        "import numpy as np\n",
        "import json\n",
        "from datetime import datetime, timedelta\n",
        "from deep_translator import GoogleTranslator\n",
        "from gtts import gTTS\n",
        "import jiwer\n",
        "from jiwer import wer, cer\n",
        "from jiwer import process_words\n",
        "import warnings\n",
        "import torch\n",
        "warnings.filterwarnings('ignore')\n",
        "\n",
        "\n",
        "print(\"✅ All libraries imported successfully!\")\n",
        "\n",
        "# Update this path to match your Google Drive folder\n"
      ],
      "metadata": {
        "colab": {
          "base_uri": "https://localhost:8080/"
        },
        "id": "xtBhcDy4UAQW",
        "outputId": "b642d05a-ab15-4a4e-c211-575e58eedb6e"
      },
      "execution_count": null,
      "outputs": [
        {
          "output_type": "stream",
          "name": "stdout",
          "text": [
            "✅ All libraries imported successfully!\n"
          ]
        }
      ]
    },
    {
      "cell_type": "markdown",
      "source": [
        "**Accessing to the Spanish Audio Files **"
      ],
      "metadata": {
        "id": "E59WOIEdNK2S"
      }
    },
    {
      "cell_type": "code",
      "source": [
        "AUDIO_FOLDER = '/content/drive/MyDrive/health-tequity-case/Input_Audio_Files/'  # UPDATE THIS\n",
        "\n",
        "# List all WAV files in the folder\n",
        "audio_files = sorted([f for f in os.listdir(AUDIO_FOLDER) if f.endswith('.wav')])\n",
        "\n",
        "print(f\"📁 Found {len(audio_files)} WAV file(s):\")\n",
        "for filename in audio_files:\n",
        "    print(f\"  - {filename}\")"
      ],
      "metadata": {
        "id": "Z3LxD_k5ZAEf",
        "colab": {
          "base_uri": "https://localhost:8080/"
        },
        "outputId": "ff50ff48-f516-48c1-f54b-b29d95367fcd"
      },
      "execution_count": null,
      "outputs": [
        {
          "output_type": "stream",
          "name": "stdout",
          "text": [
            "📁 Found 4 WAV file(s):\n",
            "  - q1_es.wav\n",
            "  - q2_es.wav\n",
            "  - q3_es.wav\n",
            "  - q4_es.wav\n"
          ]
        }
      ]
    },
    {
      "cell_type": "code",
      "source": [
        "GROUND_TRUTH_SPANISH = {\n",
        "    'q1_es.wav': '¿Cuáles son mis presiones sistólica y diastólica hoy?',\n",
        "    'q2_es.wav': '¿Cuáles fueron los valores durante la última semana?',\n",
        "    'q3_es.wav': '¿Cuál es la tendencia de los valores?',\n",
        "    'q4_es.wav': '¿Cuáles son los rangos normales para una persona como yo?'\n",
        "}\n",
        "\n",
        "# Ground truth English translations\n",
        "# UPDATE THESE with your actual ground truth translations\n",
        "GROUND_TRUTH_ENGLISH = {\n",
        "    'question1.wav': 'What are my systolic and diastolic blood pressures today?',\n",
        "    'question2.wav': 'What were the values over the last week?',\n",
        "    'question3.wav': 'What is the trend of the values?',\n",
        "    'question4.wav': 'What are the normal ranges for a person like me?'\n",
        "}\n",
        "\n",
        "print(\"\\n✅ Ground truth loaded for error rate calculations\")"
      ],
      "metadata": {
        "colab": {
          "base_uri": "https://localhost:8080/"
        },
        "id": "uslBv4vHOcrS",
        "outputId": "e8c5e23a-3794-4aca-fc5e-a2cc8ee9e5a3"
      },
      "execution_count": null,
      "outputs": [
        {
          "output_type": "stream",
          "name": "stdout",
          "text": [
            "\n",
            "✅ Ground truth loaded for error rate calculations\n"
          ]
        }
      ]
    },
    {
      "cell_type": "markdown",
      "source": [],
      "metadata": {
        "id": "3n1Q03i8OqCo"
      }
    },
    {
      "cell_type": "code",
      "source": [
        "#  Load Whisper Model\n",
        "def load_whisper_model(model_size=\"medium\"):\n",
        "    \"\"\"\n",
        "    Load Whisper model for ASR\n",
        "\n",
        "    Args:\n",
        "        model_size: 'tiny', 'base', 'small', 'medium', 'large'\n",
        "                   'medium' recommended for Spanish (good accuracy/speed balance)\n",
        "\n",
        "    Returns:\n",
        "        Loaded Whisper model\n",
        "    \"\"\"\n",
        "    print(f\"🤖 Loading Whisper '{model_size}' model...\")\n",
        "    device = \"cuda\" if torch.cuda.is_available() else \"cpu\"\n",
        "    print(f\"   Device: {device}\")\n",
        "\n",
        "    model = whisper.load_model(model_size, device=device)\n",
        "    print(\"✅ Model loaded successfully!\")\n",
        "    return model\n",
        "\n",
        "# Load the model\n",
        "model = load_whisper_model(model_size=\"medium\")"
      ],
      "metadata": {
        "colab": {
          "base_uri": "https://localhost:8080/"
        },
        "id": "6knv0Q-jOpPD",
        "outputId": "329c908c-0faf-45ee-c34d-0bd95e09053e"
      },
      "execution_count": null,
      "outputs": [
        {
          "output_type": "stream",
          "name": "stdout",
          "text": [
            "🤖 Loading Whisper 'medium' model...\n",
            "   Device: cpu\n",
            "✅ Model loaded successfully!\n"
          ]
        }
      ]
    },
    {
      "cell_type": "markdown",
      "source": [
        "# **Transcription Spanish Audio **"
      ],
      "metadata": {
        "id": "sTv3xZxcPCN5"
      }
    },
    {
      "cell_type": "code",
      "source": [
        "def transcribe_spanish_audio(model, audio_path, task=\"transcribe\"):\n",
        "    \"\"\"\n",
        "    Transcribe Spanish audio file using Whisper\n",
        "\n",
        "    Args:\n",
        "        model: Loaded Whisper model\n",
        "        audio_path: Path to WAV file\n",
        "        task: 'transcribe' (Spanish->Spanish) or 'translate' (Spanish->English)\n",
        "\n",
        "    Returns:\n",
        "        Dictionary with transcription results\n",
        "    \"\"\"\n",
        "    print(f\"🎵 Processing: {audio_path}\")\n",
        "\n",
        "    result = model.transcribe(\n",
        "        audio_path,\n",
        "        language=\"spanish\",  # Specify Spanish for better accuracy\n",
        "        task=task,\n",
        "        verbose=False\n",
        "    )\n",
        "\n",
        "    return result\n"
      ],
      "metadata": {
        "id": "z7NEvp3rO8hI"
      },
      "execution_count": null,
      "outputs": []
    },
    {
      "cell_type": "markdown",
      "source": [
        "# **Process All Audio Files**"
      ],
      "metadata": {
        "id": "fCQ0r227PnhI"
      }
    },
    {
      "cell_type": "code",
      "source": [
        "def process_audio_files(model, audio_folder, audio_files):\n",
        "    \"\"\"\n",
        "    Process multiple Spanish audio files from Google Drive\n",
        "\n",
        "    Args:\n",
        "        model: Loaded Whisper model\n",
        "        audio_folder: Path to folder containing audio files\n",
        "        audio_files: List of audio filenames\n",
        "\n",
        "    Returns:\n",
        "        DataFrame with transcription results\n",
        "    \"\"\"\n",
        "    results = []\n",
        "\n",
        "    print(\"\\n\" + \"=\"*60)\n",
        "    print(\"🎯 TRANSCRIBING SPANISH AUDIO FILES\")\n",
        "    print(\"=\"*60)\n",
        "\n",
        "    for i, audio_file in enumerate(audio_files, 1):\n",
        "        audio_path = os.path.join(audio_folder, audio_file)\n",
        "        print(f\"\\n[{i}/{len(audio_files)}] {audio_file}\")\n",
        "\n",
        "        if not os.path.exists(audio_path):\n",
        "            print(f\"⚠️  Warning: {audio_path} not found, skipping...\")\n",
        "            continue\n",
        "\n",
        "        # Get Spanish transcription\n",
        "        spanish_result = transcribe_spanish_audio(model, audio_path, task=\"transcribe\")\n",
        "\n",
        "        # Get English translation\n",
        "        english_result = transcribe_spanish_audio(model, audio_path, task=\"translate\")\n",
        "\n",
        "        results.append({\n",
        "            'question_number': i,\n",
        "            'audio_file': audio_file,\n",
        "            'spanish_transcription': spanish_result['text'].strip(),\n",
        "            'english_translation': english_result['text'].strip(),\n",
        "            'language_detected': spanish_result['language']\n",
        "        })\n",
        "\n",
        "        print(f\"   🇪🇸 Spanish: {spanish_result['text'].strip()}\")\n",
        "        print(f\"   🇬🇧 English: {english_result['text'].strip()}\")\n",
        "\n",
        "    return pd.DataFrame(results)\n",
        "\n",
        "# Process all files from Google Drive\n",
        "results_df = process_audio_files(model, AUDIO_FOLDER, audio_files)"
      ],
      "metadata": {
        "colab": {
          "base_uri": "https://localhost:8080/"
        },
        "id": "RqJbWBB_PbvM",
        "outputId": "c5ac35e7-7606-423c-e067-a697c19f3aee"
      },
      "execution_count": null,
      "outputs": [
        {
          "output_type": "stream",
          "name": "stdout",
          "text": [
            "\n",
            "============================================================\n",
            "🎯 TRANSCRIBING SPANISH AUDIO FILES\n",
            "============================================================\n",
            "\n",
            "[1/4] q1_es.wav\n",
            "🎵 Processing: /content/drive/MyDrive/health-tequity-case/Input_Audio_Files/q1_es.wav\n"
          ]
        },
        {
          "output_type": "stream",
          "name": "stderr",
          "text": [
            "100%|██████████| 324/324 [00:29<00:00, 11.15frames/s]\n"
          ]
        },
        {
          "output_type": "stream",
          "name": "stdout",
          "text": [
            "🎵 Processing: /content/drive/MyDrive/health-tequity-case/Input_Audio_Files/q1_es.wav\n"
          ]
        },
        {
          "output_type": "stream",
          "name": "stderr",
          "text": [
            "100%|██████████| 324/324 [00:27<00:00, 11.99frames/s]\n"
          ]
        },
        {
          "output_type": "stream",
          "name": "stdout",
          "text": [
            "   🇪🇸 Spanish: ¿Cuáles son mis valores de presión arterial hoy?\n",
            "   🇬🇧 English: What are my blood pressure values today?\n",
            "\n",
            "[2/4] q2_es.wav\n",
            "🎵 Processing: /content/drive/MyDrive/health-tequity-case/Input_Audio_Files/q2_es.wav\n"
          ]
        },
        {
          "output_type": "stream",
          "name": "stderr",
          "text": [
            "100%|██████████| 312/312 [00:28<00:00, 11.08frames/s]\n"
          ]
        },
        {
          "output_type": "stream",
          "name": "stdout",
          "text": [
            "🎵 Processing: /content/drive/MyDrive/health-tequity-case/Input_Audio_Files/q2_es.wav\n"
          ]
        },
        {
          "output_type": "stream",
          "name": "stderr",
          "text": [
            "100%|██████████| 312/312 [00:29<00:00, 10.65frames/s]\n"
          ]
        },
        {
          "output_type": "stream",
          "name": "stdout",
          "text": [
            "   🇪🇸 Spanish: ¿Cuáles fueron los valores de la última semana?\n",
            "   🇬🇧 English: What were the values ​​of the last week?\n",
            "\n",
            "[3/4] q3_es.wav\n",
            "🎵 Processing: /content/drive/MyDrive/health-tequity-case/Input_Audio_Files/q3_es.wav\n"
          ]
        },
        {
          "output_type": "stream",
          "name": "stderr",
          "text": [
            "100%|██████████| 261/261 [00:30<00:00,  8.47frames/s]\n"
          ]
        },
        {
          "output_type": "stream",
          "name": "stdout",
          "text": [
            "🎵 Processing: /content/drive/MyDrive/health-tequity-case/Input_Audio_Files/q3_es.wav\n"
          ]
        },
        {
          "output_type": "stream",
          "name": "stderr",
          "text": [
            "100%|██████████| 261/261 [00:28<00:00,  9.05frames/s]\n"
          ]
        },
        {
          "output_type": "stream",
          "name": "stdout",
          "text": [
            "   🇪🇸 Spanish: ¿Cuál es la tendencia de mis valores?\n",
            "   🇬🇧 English: What is the trend of my values?\n",
            "\n",
            "[4/4] q4_es.wav\n",
            "🎵 Processing: /content/drive/MyDrive/health-tequity-case/Input_Audio_Files/q4_es.wav\n"
          ]
        },
        {
          "output_type": "stream",
          "name": "stderr",
          "text": [
            "100%|██████████| 398/398 [00:29<00:00, 13.44frames/s]\n"
          ]
        },
        {
          "output_type": "stream",
          "name": "stdout",
          "text": [
            "🎵 Processing: /content/drive/MyDrive/health-tequity-case/Input_Audio_Files/q4_es.wav\n"
          ]
        },
        {
          "output_type": "stream",
          "name": "stderr",
          "text": [
            "100%|██████████| 398/398 [00:28<00:00, 14.21frames/s]"
          ]
        },
        {
          "output_type": "stream",
          "name": "stdout",
          "text": [
            "   🇪🇸 Spanish: ¿Cuáles son los rangos normales para una persona como yo?\n",
            "   🇬🇧 English: What are the normal ranges for a person like me?\n"
          ]
        },
        {
          "output_type": "stream",
          "name": "stderr",
          "text": [
            "\n"
          ]
        }
      ]
    },
    {
      "cell_type": "markdown",
      "source": [
        "** Error Rate Calculation Functions**"
      ],
      "metadata": {
        "id": "1cf4DnjtTxrf"
      }
    },
    {
      "cell_type": "code",
      "source": [
        "def calculate_wer(reference, hypothesis):\n",
        "    \"\"\"\n",
        "    Calculate Word Error Rate (WER)\n",
        "    WER = (Substitutions + Deletions + Insertions) / Total Words in Reference\n",
        "\n",
        "    Args:\n",
        "        reference: Ground truth text\n",
        "        hypothesis: Predicted/transcribed text\n",
        "\n",
        "    Returns:\n",
        "        WER score (0-1), detailed metrics\n",
        "    \"\"\"\n",
        "    # Normalize text (lowercase, strip)\n",
        "    ref = reference.lower().strip()\n",
        "    hyp = hypothesis.lower().strip()\n",
        "\n",
        "    # Calculate WER\n",
        "    wer_score = wer(ref, hyp)\n",
        "\n",
        "    # Get detailed measures\n",
        "    output= process_words(ref, hyp)\n",
        "\n",
        "    return {\n",
        "        'wer': wer_score,\n",
        "        'substitutions': output.substitutions,\n",
        "        'deletions': output.deletions,\n",
        "        'insertions': output.insertions,\n",
        "        'hits': output.hits\n",
        "    }\n",
        "\n",
        "def calculate_cer(reference, hypothesis):\n",
        "    \"\"\"\n",
        "    Calculate Character Error Rate (CER)\n",
        "    CER = (Character Substitutions + Deletions + Insertions) / Total Characters\n",
        "\n",
        "    Args:\n",
        "        reference: Ground truth text\n",
        "        hypothesis: Predicted/transcribed text\n",
        "\n",
        "    Returns:\n",
        "        CER score (0-1)\n",
        "    \"\"\"\n",
        "    ref = reference.lower().strip()\n",
        "    hyp = hypothesis.lower().strip()\n",
        "\n",
        "    cer_score = cer(ref, hyp)\n",
        "    return cer_score\n",
        "\n",
        "def calculate_ser(reference, hypothesis):\n",
        "    \"\"\"\n",
        "    Calculate Sentence Error Rate (SER)\n",
        "    SER = 1 if sentences don't match exactly, 0 if they match\n",
        "\n",
        "    Args:\n",
        "        reference: Ground truth text\n",
        "        hypothesis: Predicted/transcribed text\n",
        "\n",
        "    Returns:\n",
        "        SER score (0 or 1)\n",
        "    \"\"\"\n",
        "    # Normalize for comparison\n",
        "    ref = reference.lower().strip()\n",
        "    hyp = hypothesis.lower().strip()\n",
        "\n",
        "    # SER is 0 if exact match, 1 if not\n",
        "    ser_score = 0 if ref == hyp else 1\n",
        "    return ser_score\n",
        "\n",
        "def calculate_all_error_rates(results_df, ground_truth_spanish):\n",
        "    \"\"\"\n",
        "    Calculate all error rates for Spanish and English transcriptions\n",
        "\n",
        "    Args:\n",
        "        results_df: DataFrame with transcription results\n",
        "        ground_truth_spanish: Dictionary of ground truth Spanish text\n",
        "        ground_truth_english: Dictionary of ground truth English text\n",
        "\n",
        "    Returns:\n",
        "        DataFrame with error rates\n",
        "    \"\"\"\n",
        "    error_rates = []\n",
        "\n",
        "    for idx, row in results_df.iterrows():\n",
        "        audio_file = row['audio_file']\n",
        "\n",
        "        # Spanish error rates (ASR accuracy)\n",
        "        if audio_file in ground_truth_spanish:\n",
        "            spanish_gt = ground_truth_spanish[audio_file]\n",
        "            spanish_hyp = row['spanish_transcription']\n",
        "\n",
        "            spanish_wer_details = calculate_wer(spanish_gt, spanish_hyp)\n",
        "            spanish_cer_score = calculate_cer(spanish_gt, spanish_hyp)\n",
        "            spanish_ser_score = calculate_ser(spanish_gt, spanish_hyp)\n",
        "        else:\n",
        "            spanish_wer_details = {'wer': None, 'substitutions': None, 'deletions': None, 'insertions': None, 'hits': None}\n",
        "            spanish_cer_score = None\n",
        "            spanish_ser_score = None\n",
        "\n",
        "        # English error rates (Translation accuracy)\n",
        "        # if audio_file in ground_truth_english:\n",
        "        #     english_gt = ground_truth_english[audio_file]\n",
        "        #     english_hyp = row['english_translation']\n",
        "\n",
        "        #     english_wer_details = calculate_wer(english_gt, english_hyp)\n",
        "        #     english_cer_score = calculate_cer(english_gt, english_hyp)\n",
        "        #     english_ser_score = calculate_ser(english_gt, english_hyp)\n",
        "        # else:\n",
        "        #     english_wer_details = {'wer': None, 'substitutions': None, 'deletions': None, 'insertions': None, 'hits': None}\n",
        "        #     english_cer_score = None\n",
        "        #     english_ser_score = None\n",
        "\n",
        "        error_rates.append({\n",
        "            'question_number': row['question_number'],\n",
        "            'audio_file': audio_file,\n",
        "\n",
        "            # Spanish metrics\n",
        "            'spanish_wer': spanish_wer_details['wer'],\n",
        "            'spanish_substitutions': spanish_wer_details['substitutions'],\n",
        "            'spanish_deletions': spanish_wer_details['deletions'],\n",
        "            'spanish_insertions': spanish_wer_details['insertions'],\n",
        "            'spanish_cer': spanish_cer_score,\n",
        "            'spanish_ser': spanish_ser_score,\n",
        "\n",
        "            # English metrics\n",
        "            # 'english_wer': english_wer_details['wer'],\n",
        "            # 'english_substitutions': english_wer_details['substitutions'],\n",
        "            # 'english_deletions': english_wer_details['deletions'],\n",
        "            # 'english_insertions': english_wer_details['insertions'],\n",
        "            # 'english_cer': english_cer_score,\n",
        "            # 'english_ser': english_ser_score\n",
        "        })\n",
        "\n",
        "    return pd.DataFrame(error_rates)\n",
        "\n",
        "# Calculate error rates\n",
        "print(\"\\n\" + \"=\"*60)\n",
        "print(\"📊 CALCULATING ERROR RATES\")\n",
        "print(\"=\"*60)\n",
        "\n",
        "error_rates_df = calculate_all_error_rates(results_df, GROUND_TRUTH_SPANISH)\n",
        "\n",
        "# Merge with original results\n",
        "full_results_df = results_df.merge(error_rates_df, on=['question_number', 'audio_file'])"
      ],
      "metadata": {
        "colab": {
          "base_uri": "https://localhost:8080/"
        },
        "id": "pS7Y16uDP1I5",
        "outputId": "cb14bbb4-83e5-4613-cc96-c2392e9f612d"
      },
      "execution_count": null,
      "outputs": [
        {
          "output_type": "stream",
          "name": "stdout",
          "text": [
            "\n",
            "============================================================\n",
            "📊 CALCULATING ERROR RATES\n",
            "============================================================\n"
          ]
        }
      ]
    },
    {
      "cell_type": "markdown",
      "source": [
        "Display Results with Error Rates"
      ],
      "metadata": {
        "id": "qNO4IxAfWS-i"
      }
    },
    {
      "cell_type": "code",
      "source": [
        "# ============================================\n",
        "# CELL 7: Display Results with Error Rates\n",
        "# ============================================\n",
        "display_cols = ['question_number', 'audio_file', 'spanish_wer', 'spanish_cer',\n",
        "                'spanish_ser']  #, 'english_wer', 'english_cer', 'english_ser']\n",
        "print(full_results_df[display_cols].to_string(index=False))\n",
        "\n",
        "# Calculate averages (skip None values)\n",
        "print(\"\\n\" + \"=\"*60)\n",
        "print(\"📈 AVERAGE ERROR RATES\")\n",
        "print(\"=\"*60)\n",
        "\n",
        "# Spanish metrics\n",
        "spanish_wer_mean = full_results_df['spanish_wer'].dropna().mean()\n",
        "spanish_cer_mean = full_results_df['spanish_cer'].dropna().mean()\n",
        "spanish_ser_mean = full_results_df['spanish_ser'].dropna().mean()\n",
        "\n",
        "print(f\"Spanish ASR:\")\n",
        "if not pd.isna(spanish_wer_mean):\n",
        "    print(f\"  Average WER: {spanish_wer_mean:.4f} ({spanish_wer_mean*100:.2f}%)\")\n",
        "    print(f\"  Average CER: {spanish_cer_mean:.4f} ({spanish_cer_mean*100:.2f}%)\")\n",
        "    print(f\"  Average SER: {spanish_ser_mean:.4f} ({spanish_ser_mean*100:.2f}%)\")\n",
        "else:\n",
        "    print(f\"  ⚠️  No ground truth available for Spanish ASR\")\n",
        "\n",
        "# English metrics\n",
        "# english_wer_mean = full_results_df['english_wer'].dropna().mean()\n",
        "# english_cer_mean = full_results_df['english_cer'].dropna().mean()\n",
        "# english_ser_mean = full_results_df['english_ser'].dropna().mean()\n",
        "\n",
        "# print(f\"\\nEnglish Translation:\")\n",
        "# if not pd.isna(english_wer_mean):\n",
        "#     print(f\"  Average WER: {english_wer_mean:.4f} ({english_wer_mean*100:.2f}%)\")\n",
        "#     print(f\"  Average CER: {english_cer_mean:.4f} ({english_cer_mean*100:.2f}%)\")\n",
        "#     print(f\"  Average SER: {english_ser_mean:.4f} ({english_ser_mean*100:.2f}%)\")\n",
        "# else:\n",
        "#     print(f\"  ⚠️  No ground truth available for English translation\")\n",
        "\n",
        "# ============================================\n",
        "# SAVE RESULTS\n",
        "# ============================================\n",
        "print(\"\\n\" + \"=\"*60)\n",
        "print(\"💾 SAVING RESULTS\")\n",
        "print(\"=\"*60)\n",
        "\n",
        "# Save full results with all columns\n",
        "output_file_full = \"whisper_transcriptions_with_errors.csv\"\n",
        "full_results_df.to_csv(output_file_full, index=False)\n",
        "print(f\"✅ Full results saved to: {output_file_full}\")\n",
        "\n",
        "# Save transcriptions only (simplified)\n",
        "transcriptions_only = full_results_df[['question_number', 'audio_file',\n",
        "                                        'spanish_transcription', 'english_translation']].copy()\n",
        "output_file_transcriptions = \"transcriptions_only.csv\"\n",
        "transcriptions_only.to_csv(output_file_transcriptions, index=False)\n",
        "print(f\"✅ Transcriptions only saved to: {output_file_transcriptions}\")\n",
        "\n",
        "# Save error rates summary\n",
        "error_summary = full_results_df[['question_number', 'audio_file',\n",
        "                                  'spanish_wer', 'spanish_cer', 'spanish_ser']].copy()\n",
        "output_file_errors = \"error_rates_summary.csv\"\n",
        "error_summary.to_csv(output_file_errors, index=False)\n",
        "print(f\"✅ Error rates summary saved to: {output_file_errors}\")\n",
        "\n",
        "# Save to Google Drive (if mounted)\n",
        "try:\n",
        "    # Try to save to Drive if it's mounted\n",
        "    drive_output_folder = '/content/drive/MyDrive/health_tequity_results/'\n",
        "    os.makedirs(drive_output_folder, exist_ok=True)\n",
        "\n",
        "    full_results_df.to_csv(os.path.join(drive_output_folder, output_file_full), index=False)\n",
        "    transcriptions_only.to_csv(os.path.join(drive_output_folder, output_file_transcriptions), index=False)\n",
        "    error_summary.to_csv(os.path.join(drive_output_folder, output_file_errors), index=False)\n",
        "\n",
        "    print(f\"\\n✅ All files also saved to Google Drive: {drive_output_folder}\")\n",
        "except:\n",
        "    print(\"\\n⚠️  Google Drive not mounted - files saved locally only\")\n",
        "\n",
        "# Download files to your computer\n",
        "print(\"\\n📥 Download files to your computer:\")\n",
        "from google.colab import files\n",
        "files.download(output_file_full)\n",
        "files.download(output_file_transcriptions)\n",
        "files.download(output_file_errors)\n",
        "\n",
        "print(\"\\n✅ All results saved successfully!\")"
      ],
      "metadata": {
        "colab": {
          "base_uri": "https://localhost:8080/",
          "height": 493
        },
        "id": "DBUCBm1nUOdu",
        "outputId": "bfe39888-fcdc-4352-d211-ff6f9236e757"
      },
      "execution_count": null,
      "outputs": [
        {
          "output_type": "stream",
          "name": "stdout",
          "text": [
            " question_number audio_file  spanish_wer  spanish_cer  spanish_ser\n",
            "               1  q1_es.wav     0.500000     0.452830            1\n",
            "               2  q2_es.wav     0.125000     0.096154            1\n",
            "               3  q3_es.wav     0.142857     0.054054            1\n",
            "               4  q4_es.wav     0.000000     0.000000            0\n",
            "\n",
            "============================================================\n",
            "📈 AVERAGE ERROR RATES\n",
            "============================================================\n",
            "Spanish ASR:\n",
            "  Average WER: 0.1920 (19.20%)\n",
            "  Average CER: 0.1508 (15.08%)\n",
            "  Average SER: 0.7500 (75.00%)\n",
            "\n",
            "============================================================\n",
            "💾 SAVING RESULTS\n",
            "============================================================\n",
            "✅ Full results saved to: whisper_transcriptions_with_errors.csv\n",
            "✅ Transcriptions only saved to: transcriptions_only.csv\n",
            "✅ Error rates summary saved to: error_rates_summary.csv\n",
            "\n",
            "✅ All files also saved to Google Drive: /content/drive/MyDrive/health_tequity_results/\n",
            "\n",
            "📥 Download files to your computer:\n"
          ]
        },
        {
          "output_type": "display_data",
          "data": {
            "text/plain": [
              "<IPython.core.display.Javascript object>"
            ],
            "application/javascript": [
              "\n",
              "    async function download(id, filename, size) {\n",
              "      if (!google.colab.kernel.accessAllowed) {\n",
              "        return;\n",
              "      }\n",
              "      const div = document.createElement('div');\n",
              "      const label = document.createElement('label');\n",
              "      label.textContent = `Downloading \"${filename}\": `;\n",
              "      div.appendChild(label);\n",
              "      const progress = document.createElement('progress');\n",
              "      progress.max = size;\n",
              "      div.appendChild(progress);\n",
              "      document.body.appendChild(div);\n",
              "\n",
              "      const buffers = [];\n",
              "      let downloaded = 0;\n",
              "\n",
              "      const channel = await google.colab.kernel.comms.open(id);\n",
              "      // Send a message to notify the kernel that we're ready.\n",
              "      channel.send({})\n",
              "\n",
              "      for await (const message of channel.messages) {\n",
              "        // Send a message to notify the kernel that we're ready.\n",
              "        channel.send({})\n",
              "        if (message.buffers) {\n",
              "          for (const buffer of message.buffers) {\n",
              "            buffers.push(buffer);\n",
              "            downloaded += buffer.byteLength;\n",
              "            progress.value = downloaded;\n",
              "          }\n",
              "        }\n",
              "      }\n",
              "      const blob = new Blob(buffers, {type: 'application/binary'});\n",
              "      const a = document.createElement('a');\n",
              "      a.href = window.URL.createObjectURL(blob);\n",
              "      a.download = filename;\n",
              "      div.appendChild(a);\n",
              "      a.click();\n",
              "      div.remove();\n",
              "    }\n",
              "  "
            ]
          },
          "metadata": {}
        },
        {
          "output_type": "display_data",
          "data": {
            "text/plain": [
              "<IPython.core.display.Javascript object>"
            ],
            "application/javascript": [
              "download(\"download_33d17cc8-f5e7-488a-a298-8dd829e6e4b2\", \"whisper_transcriptions_with_errors.csv\", 761)"
            ]
          },
          "metadata": {}
        },
        {
          "output_type": "display_data",
          "data": {
            "text/plain": [
              "<IPython.core.display.Javascript object>"
            ],
            "application/javascript": [
              "\n",
              "    async function download(id, filename, size) {\n",
              "      if (!google.colab.kernel.accessAllowed) {\n",
              "        return;\n",
              "      }\n",
              "      const div = document.createElement('div');\n",
              "      const label = document.createElement('label');\n",
              "      label.textContent = `Downloading \"${filename}\": `;\n",
              "      div.appendChild(label);\n",
              "      const progress = document.createElement('progress');\n",
              "      progress.max = size;\n",
              "      div.appendChild(progress);\n",
              "      document.body.appendChild(div);\n",
              "\n",
              "      const buffers = [];\n",
              "      let downloaded = 0;\n",
              "\n",
              "      const channel = await google.colab.kernel.comms.open(id);\n",
              "      // Send a message to notify the kernel that we're ready.\n",
              "      channel.send({})\n",
              "\n",
              "      for await (const message of channel.messages) {\n",
              "        // Send a message to notify the kernel that we're ready.\n",
              "        channel.send({})\n",
              "        if (message.buffers) {\n",
              "          for (const buffer of message.buffers) {\n",
              "            buffers.push(buffer);\n",
              "            downloaded += buffer.byteLength;\n",
              "            progress.value = downloaded;\n",
              "          }\n",
              "        }\n",
              "      }\n",
              "      const blob = new Blob(buffers, {type: 'application/binary'});\n",
              "      const a = document.createElement('a');\n",
              "      a.href = window.URL.createObjectURL(blob);\n",
              "      a.download = filename;\n",
              "      div.appendChild(a);\n",
              "      a.click();\n",
              "      div.remove();\n",
              "    }\n",
              "  "
            ]
          },
          "metadata": {}
        },
        {
          "output_type": "display_data",
          "data": {
            "text/plain": [
              "<IPython.core.display.Javascript object>"
            ],
            "application/javascript": [
              "download(\"download_79a504c9-f414-455f-9891-e09a9642ebde\", \"transcriptions_only.csv\", 487)"
            ]
          },
          "metadata": {}
        },
        {
          "output_type": "display_data",
          "data": {
            "text/plain": [
              "<IPython.core.display.Javascript object>"
            ],
            "application/javascript": [
              "\n",
              "    async function download(id, filename, size) {\n",
              "      if (!google.colab.kernel.accessAllowed) {\n",
              "        return;\n",
              "      }\n",
              "      const div = document.createElement('div');\n",
              "      const label = document.createElement('label');\n",
              "      label.textContent = `Downloading \"${filename}\": `;\n",
              "      div.appendChild(label);\n",
              "      const progress = document.createElement('progress');\n",
              "      progress.max = size;\n",
              "      div.appendChild(progress);\n",
              "      document.body.appendChild(div);\n",
              "\n",
              "      const buffers = [];\n",
              "      let downloaded = 0;\n",
              "\n",
              "      const channel = await google.colab.kernel.comms.open(id);\n",
              "      // Send a message to notify the kernel that we're ready.\n",
              "      channel.send({})\n",
              "\n",
              "      for await (const message of channel.messages) {\n",
              "        // Send a message to notify the kernel that we're ready.\n",
              "        channel.send({})\n",
              "        if (message.buffers) {\n",
              "          for (const buffer of message.buffers) {\n",
              "            buffers.push(buffer);\n",
              "            downloaded += buffer.byteLength;\n",
              "            progress.value = downloaded;\n",
              "          }\n",
              "        }\n",
              "      }\n",
              "      const blob = new Blob(buffers, {type: 'application/binary'});\n",
              "      const a = document.createElement('a');\n",
              "      a.href = window.URL.createObjectURL(blob);\n",
              "      a.download = filename;\n",
              "      div.appendChild(a);\n",
              "      a.click();\n",
              "      div.remove();\n",
              "    }\n",
              "  "
            ]
          },
          "metadata": {}
        },
        {
          "output_type": "display_data",
          "data": {
            "text/plain": [
              "<IPython.core.display.Javascript object>"
            ],
            "application/javascript": [
              "download(\"download_85281ef6-0a94-4c10-a002-62eb3e0b1b2e\", \"error_rates_summary.csv\", 216)"
            ]
          },
          "metadata": {}
        },
        {
          "output_type": "stream",
          "name": "stdout",
          "text": [
            "\n",
            "✅ All results saved successfully!\n"
          ]
        }
      ]
    },
    {
      "cell_type": "markdown",
      "source": [
        "Save Results"
      ],
      "metadata": {
        "id": "_99qcHNtWs6W"
      }
    },
    {
      "cell_type": "markdown",
      "source": [
        "Display Individual Results with Comparision"
      ],
      "metadata": {
        "id": "NSgaaG_9XEGf"
      }
    },
    {
      "cell_type": "code",
      "source": [
        "print(\"\\n\" + \"=\"*60)\n",
        "print(\"📝 DETAILED TRANSCRIPTIONS WITH GROUND TRUTH COMPARISON\")\n",
        "print(\"=\"*60)\n",
        "\n",
        "for idx, row in full_results_df.iterrows():\n",
        "    print(f\"\\n{'='*60}\")\n",
        "    print(f\"Question {row['question_number']}: {row['audio_file']}\")\n",
        "    print(f\"{'='*60}\")\n",
        "\n",
        "    # Spanish comparison\n",
        "    print(f\"\\n🇪🇸 SPANISH:\")\n",
        "    audio_file = row['audio_file']\n",
        "    if audio_file in GROUND_TRUTH_SPANISH:\n",
        "        print(f\"  Ground Truth: {GROUND_TRUTH_SPANISH[audio_file]}\")\n",
        "        print(f\"  Transcribed:  {row['spanish_transcription']}\")\n",
        "\n",
        "        # Display metrics if available\n",
        "        if row['spanish_wer'] is not None:\n",
        "            print(f\"  WER: {row['spanish_wer']:.4f} | CER: {row['spanish_cer']:.4f} | SER: {row['spanish_ser']}\")\n",
        "            print(f\"  Errors: Subs={row['spanish_substitutions']}, Dels={row['spanish_deletions']}, Ins={row['spanish_insertions']}\")\n",
        "        else:\n",
        "            print(f\"  ⚠️  No ground truth available for error calculation\")\n",
        "    else:\n",
        "        print(f\"  Transcribed:  {row['spanish_transcription']}\")\n",
        "        print(f\"  ⚠️  No ground truth available\")\n",
        "\n",
        "    # # English comparison\n",
        "    # print(f\"\\n🇬🇧 ENGLISH:\")\n",
        "    # if audio_file in GROUND_TRUTH_ENGLISH:\n",
        "    #     print(f\"  Ground Truth: {GROUND_TRUTH_ENGLISH[audio_file]}\")\n",
        "    #     print(f\"  Translated:   {row['english_translation']}\")\n",
        "\n",
        "    #     # Display metrics if available\n",
        "    #     if row['english_wer'] is not None:\n",
        "    #         print(f\"  WER: {row['english_wer']:.4f} | CER: {row['english_cer']:.4f} | SER: {row['english_ser']}\")\n",
        "    #         print(f\"  Errors: Subs={row['english_substitutions']}, Dels={row['english_deletions']}, Ins={row['english_insertions']}\")\n",
        "    #     else:\n",
        "    #         print(f\"  ⚠️  No ground truth available for error calculation\")\n",
        "    # else:\n",
        "    #     print(f\"  Translated:   {row['english_translation']}\")\n",
        "    #     print(f\"  ⚠️  No ground truth available\")\n",
        "    print()"
      ],
      "metadata": {
        "colab": {
          "base_uri": "https://localhost:8080/"
        },
        "id": "YgSuvBnOXLR6",
        "outputId": "9b1f04c3-310c-4635-d9f3-788688f743fe"
      },
      "execution_count": null,
      "outputs": [
        {
          "output_type": "stream",
          "name": "stdout",
          "text": [
            "\n",
            "============================================================\n",
            "📝 DETAILED TRANSCRIPTIONS WITH GROUND TRUTH COMPARISON\n",
            "============================================================\n",
            "\n",
            "============================================================\n",
            "Question 1: q1_es.wav\n",
            "============================================================\n",
            "\n",
            "🇪🇸 SPANISH:\n",
            "  Ground Truth: ¿Cuáles son mis presiones sistólica y diastólica hoy?\n",
            "  Transcribed:  ¿Cuáles son mis valores de presión arterial hoy?\n",
            "  WER: 0.5000 | CER: 0.4528 | SER: 1\n",
            "  Errors: Subs=4, Dels=0, Ins=0\n",
            "\n",
            "\n",
            "============================================================\n",
            "Question 2: q2_es.wav\n",
            "============================================================\n",
            "\n",
            "🇪🇸 SPANISH:\n",
            "  Ground Truth: ¿Cuáles fueron los valores durante la última semana?\n",
            "  Transcribed:  ¿Cuáles fueron los valores de la última semana?\n",
            "  WER: 0.1250 | CER: 0.0962 | SER: 1\n",
            "  Errors: Subs=1, Dels=0, Ins=0\n",
            "\n",
            "\n",
            "============================================================\n",
            "Question 3: q3_es.wav\n",
            "============================================================\n",
            "\n",
            "🇪🇸 SPANISH:\n",
            "  Ground Truth: ¿Cuál es la tendencia de los valores?\n",
            "  Transcribed:  ¿Cuál es la tendencia de mis valores?\n",
            "  WER: 0.1429 | CER: 0.0541 | SER: 1\n",
            "  Errors: Subs=1, Dels=0, Ins=0\n",
            "\n",
            "\n",
            "============================================================\n",
            "Question 4: q4_es.wav\n",
            "============================================================\n",
            "\n",
            "🇪🇸 SPANISH:\n",
            "  Ground Truth: ¿Cuáles son los rangos normales para una persona como yo?\n",
            "  Transcribed:  ¿Cuáles son los rangos normales para una persona como yo?\n",
            "  WER: 0.0000 | CER: 0.0000 | SER: 0\n",
            "  Errors: Subs=0, Dels=0, Ins=0\n",
            "\n"
          ]
        }
      ]
    },
    {
      "cell_type": "markdown",
      "source": [
        "LLM **part**"
      ],
      "metadata": {
        "id": "GrhFIv4iLMze"
      }
    },
    {
      "cell_type": "code",
      "source": [
        "!pip -q install transformers accelerate bitsandbytes sentencepiece einops safetensors\n",
        "\n"
      ],
      "metadata": {
        "colab": {
          "base_uri": "https://localhost:8080/"
        },
        "id": "hhwghRtXgFPd",
        "outputId": "88ed7366-4e8c-42f0-b36e-77c033c8af3a"
      },
      "execution_count": null,
      "outputs": [
        {
          "output_type": "stream",
          "name": "stdout",
          "text": [
            "\u001b[2K   \u001b[90m━━━━━━━━━━━━━━━━━━━━━━━━━━━━━━━━━━━━━━━━\u001b[0m \u001b[32m60.1/60.1 MB\u001b[0m \u001b[31m20.7 MB/s\u001b[0m eta \u001b[36m0:00:00\u001b[0m\n",
            "\u001b[?25h"
          ]
        }
      ]
    },
    {
      "cell_type": "code",
      "source": [
        "from transformers import AutoModelForCausalLM, AutoTokenizer, pipeline\n",
        "import torch, json, re\n",
        "\n",
        "model_id = \"mistralai/Mistral-7B-Instruct-v0.3\"   # also works: \"NousResearch/Meta-Llama-3.1-8B-Instruct\"\n",
        "tokenizer = AutoTokenizer.from_pretrained(model_id, use_fast=True)\n",
        "\n",
        "model = AutoModelForCausalLM.from_pretrained(\n",
        "    model_id,\n",
        "    torch_dtype=torch.float16,\n",
        "    device_map=\"auto\",\n",
        "    load_in_4bit=True  # bitsandbytes quantization\n",
        ")\n",
        "\n",
        "gen = pipeline(\n",
        "    \"text-generation\",\n",
        "    model=model,\n",
        "    tokenizer=tokenizer,\n",
        "    device_map=\"auto\"\n",
        ")\n"
      ],
      "metadata": {
        "colab": {
          "base_uri": "https://localhost:8080/",
          "height": 928,
          "referenced_widgets": [
            "da102791b9324783a8ed2e65af41cec6",
            "d6e86e6092794f4194b457e9700c9826",
            "6e2aace44166409b8863c1d752a37777",
            "4d4f532603a84da4bea163d7759cd1ca",
            "6cda3b2484d140fb9ebe0eb881e30297",
            "837986ec29274e8eb26a1957315f1d20",
            "b7ebb2d75dd74b5a820767881faa2300",
            "8f72cf06849f4f1998e0b67891c34c3a",
            "25ab910f89f44d5d8a6fc00e99d0d795",
            "8e3ee790215446d984d9572c7faff036",
            "304dd704b642418988b488110cb2ddfe",
            "224ac15c6333428f84b18f8a24e4989c",
            "60f7827554d94cf4ab94b8ae23a2196a",
            "d3fa93a1bb9a4eec9c274b7db3174b47",
            "7509edadead7494b9b31ae2025261537",
            "fb902b63c44a4c2c9b010307dafb5fb9",
            "b80f4fecb087485894fb9264683abd35",
            "d3c5571c945a49d49a382249b906f8f6",
            "9933a777da824f14ba655cb35dae02e1",
            "2ee8cab02b2c49e2ae9370247d5c4552",
            "386d8a0ff2e642ffb9afb92675c9564e",
            "c2893604174f428aa19fe18b28ff8807",
            "fe5afa0028a141d6a71501ce785f5e04",
            "06654ac720644c9f8d45b352d8770454",
            "b2aee305da8f4f488cf427fb90a619a2",
            "37b9c6f3f1d04b9099e7430d7eec8dfe",
            "f9bdca0738fb4c9e9f1fd06e4db378cc",
            "89426526200947058653437596dd53df",
            "5046c389cc924e0faaa3158b034841ee",
            "38cf30649f844f4b8e2cedb7317aeb79",
            "7b0c38a134aa420aa6fa826c5c3bd1e7",
            "e37922abe98f418b8c4cfbdf6c563f92",
            "cf07494b239b40ee9119c5bb977ff662",
            "4ea4d85d903b4ce4ba8709045647be9c",
            "ac220350246f48cd8e483be814d000d8",
            "f8123c71f6ff4fd39a06b03cb76b4624",
            "6d240a89ee4d496cacf6cc4b662ec20c",
            "f817ee69bbb04bfca8052d24c6dbf48a",
            "cc268964709f451bbd357bc3af36178e",
            "d5d8bdb9095e4624bb1c92d1cb045ac3",
            "03156671f5634d04b41f324d092c8de8",
            "d0e41e6b82e24d51bc666f544d9329d1",
            "b3130ea0022a427d94549609f66612f3",
            "81e268d2acb94cc095364d5fec258595",
            "300c03e0836d4523b8d7c325bf5bc127",
            "d2ba8f643cd04a4698dfcb7713c45108",
            "a2405c2ac12941f08ae61885ef1478ed",
            "c10e937f1908407f926f0363b0c8503f",
            "b20c763b7d4a4d278b9bbdab67330b06",
            "f7ffc6402f3f4b38a75f4a144f976693",
            "8611ed99790e4c07853b4caa5981016f",
            "ca6847f8d5754efea706f77a6ad5c97b",
            "e572d048ee4f4f109eb109212dc222be",
            "1d8925e45a8d4e9ab31f4ca3afc5e496",
            "e057d8bcb20041baae1a4d02ef0ef249"
          ]
        },
        "id": "tIP2Nmy8LQ48",
        "outputId": "1a4aad26-4b42-45c0-f03d-1a5b01a23eac"
      },
      "execution_count": null,
      "outputs": [
        {
          "output_type": "stream",
          "name": "stderr",
          "text": [
            "/usr/local/lib/python3.11/dist-packages/huggingface_hub/utils/_auth.py:94: UserWarning: \n",
            "The secret `HF_TOKEN` does not exist in your Colab secrets.\n",
            "To authenticate with the Hugging Face Hub, create a token in your settings tab (https://huggingface.co/settings/tokens), set it as secret in your Google Colab and restart your session.\n",
            "You will be able to reuse this secret in all of your notebooks.\n",
            "Please note that authentication is recommended but still optional to access public models or datasets.\n",
            "  warnings.warn(\n"
          ]
        },
        {
          "output_type": "display_data",
          "data": {
            "text/plain": [
              "tokenizer_config.json: 0.00B [00:00, ?B/s]"
            ],
            "application/vnd.jupyter.widget-view+json": {
              "version_major": 2,
              "version_minor": 0,
              "model_id": "da102791b9324783a8ed2e65af41cec6"
            }
          },
          "metadata": {}
        },
        {
          "output_type": "display_data",
          "data": {
            "text/plain": [
              "tokenizer.model:   0%|          | 0.00/587k [00:00<?, ?B/s]"
            ],
            "application/vnd.jupyter.widget-view+json": {
              "version_major": 2,
              "version_minor": 0,
              "model_id": "224ac15c6333428f84b18f8a24e4989c"
            }
          },
          "metadata": {}
        },
        {
          "output_type": "display_data",
          "data": {
            "text/plain": [
              "tokenizer.json: 0.00B [00:00, ?B/s]"
            ],
            "application/vnd.jupyter.widget-view+json": {
              "version_major": 2,
              "version_minor": 0,
              "model_id": "fe5afa0028a141d6a71501ce785f5e04"
            }
          },
          "metadata": {}
        },
        {
          "output_type": "display_data",
          "data": {
            "text/plain": [
              "special_tokens_map.json:   0%|          | 0.00/414 [00:00<?, ?B/s]"
            ],
            "application/vnd.jupyter.widget-view+json": {
              "version_major": 2,
              "version_minor": 0,
              "model_id": "4ea4d85d903b4ce4ba8709045647be9c"
            }
          },
          "metadata": {}
        },
        {
          "output_type": "display_data",
          "data": {
            "text/plain": [
              "config.json:   0%|          | 0.00/601 [00:00<?, ?B/s]"
            ],
            "application/vnd.jupyter.widget-view+json": {
              "version_major": 2,
              "version_minor": 0,
              "model_id": "300c03e0836d4523b8d7c325bf5bc127"
            }
          },
          "metadata": {}
        },
        {
          "output_type": "error",
          "ename": "PackageNotFoundError",
          "evalue": "No package metadata was found for bitsandbytes",
          "traceback": [
            "\u001b[0;31m---------------------------------------------------------------------------\u001b[0m",
            "\u001b[0;31mStopIteration\u001b[0m                             Traceback (most recent call last)",
            "\u001b[0;32m/usr/lib/python3.11/importlib/metadata/__init__.py\u001b[0m in \u001b[0;36mfrom_name\u001b[0;34m(cls, name)\u001b[0m\n\u001b[1;32m    562\u001b[0m         \u001b[0;32mtry\u001b[0m\u001b[0;34m:\u001b[0m\u001b[0;34m\u001b[0m\u001b[0;34m\u001b[0m\u001b[0m\n\u001b[0;32m--> 563\u001b[0;31m             \u001b[0;32mreturn\u001b[0m \u001b[0mnext\u001b[0m\u001b[0;34m(\u001b[0m\u001b[0mcls\u001b[0m\u001b[0;34m.\u001b[0m\u001b[0mdiscover\u001b[0m\u001b[0;34m(\u001b[0m\u001b[0mname\u001b[0m\u001b[0;34m=\u001b[0m\u001b[0mname\u001b[0m\u001b[0;34m)\u001b[0m\u001b[0;34m)\u001b[0m\u001b[0;34m\u001b[0m\u001b[0;34m\u001b[0m\u001b[0m\n\u001b[0m\u001b[1;32m    564\u001b[0m         \u001b[0;32mexcept\u001b[0m \u001b[0mStopIteration\u001b[0m\u001b[0;34m:\u001b[0m\u001b[0;34m\u001b[0m\u001b[0;34m\u001b[0m\u001b[0m\n",
            "\u001b[0;31mStopIteration\u001b[0m: ",
            "\nDuring handling of the above exception, another exception occurred:\n",
            "\u001b[0;31mPackageNotFoundError\u001b[0m                      Traceback (most recent call last)",
            "\u001b[0;32m/tmp/ipython-input-1-3071233847.py\u001b[0m in \u001b[0;36m<cell line: 0>\u001b[0;34m()\u001b[0m\n\u001b[1;32m      5\u001b[0m \u001b[0mtokenizer\u001b[0m \u001b[0;34m=\u001b[0m \u001b[0mAutoTokenizer\u001b[0m\u001b[0;34m.\u001b[0m\u001b[0mfrom_pretrained\u001b[0m\u001b[0;34m(\u001b[0m\u001b[0mmodel_id\u001b[0m\u001b[0;34m,\u001b[0m \u001b[0muse_fast\u001b[0m\u001b[0;34m=\u001b[0m\u001b[0;32mTrue\u001b[0m\u001b[0;34m)\u001b[0m\u001b[0;34m\u001b[0m\u001b[0;34m\u001b[0m\u001b[0m\n\u001b[1;32m      6\u001b[0m \u001b[0;34m\u001b[0m\u001b[0m\n\u001b[0;32m----> 7\u001b[0;31m model = AutoModelForCausalLM.from_pretrained(\n\u001b[0m\u001b[1;32m      8\u001b[0m     \u001b[0mmodel_id\u001b[0m\u001b[0;34m,\u001b[0m\u001b[0;34m\u001b[0m\u001b[0;34m\u001b[0m\u001b[0m\n\u001b[1;32m      9\u001b[0m     \u001b[0mtorch_dtype\u001b[0m\u001b[0;34m=\u001b[0m\u001b[0mtorch\u001b[0m\u001b[0;34m.\u001b[0m\u001b[0mfloat16\u001b[0m\u001b[0;34m,\u001b[0m\u001b[0;34m\u001b[0m\u001b[0;34m\u001b[0m\u001b[0m\n",
            "\u001b[0;32m/usr/local/lib/python3.11/dist-packages/transformers/models/auto/auto_factory.py\u001b[0m in \u001b[0;36mfrom_pretrained\u001b[0;34m(cls, pretrained_model_name_or_path, *model_args, **kwargs)\u001b[0m\n\u001b[1;32m    598\u001b[0m             \u001b[0;32mif\u001b[0m \u001b[0mmodel_class\u001b[0m\u001b[0;34m.\u001b[0m\u001b[0mconfig_class\u001b[0m \u001b[0;34m==\u001b[0m \u001b[0mconfig\u001b[0m\u001b[0;34m.\u001b[0m\u001b[0msub_configs\u001b[0m\u001b[0;34m.\u001b[0m\u001b[0mget\u001b[0m\u001b[0;34m(\u001b[0m\u001b[0;34m\"text_config\"\u001b[0m\u001b[0;34m,\u001b[0m \u001b[0;32mNone\u001b[0m\u001b[0;34m)\u001b[0m\u001b[0;34m:\u001b[0m\u001b[0;34m\u001b[0m\u001b[0;34m\u001b[0m\u001b[0m\n\u001b[1;32m    599\u001b[0m                 \u001b[0mconfig\u001b[0m \u001b[0;34m=\u001b[0m \u001b[0mconfig\u001b[0m\u001b[0;34m.\u001b[0m\u001b[0mget_text_config\u001b[0m\u001b[0;34m(\u001b[0m\u001b[0;34m)\u001b[0m\u001b[0;34m\u001b[0m\u001b[0;34m\u001b[0m\u001b[0m\n\u001b[0;32m--> 600\u001b[0;31m             return model_class.from_pretrained(\n\u001b[0m\u001b[1;32m    601\u001b[0m                 \u001b[0mpretrained_model_name_or_path\u001b[0m\u001b[0;34m,\u001b[0m \u001b[0;34m*\u001b[0m\u001b[0mmodel_args\u001b[0m\u001b[0;34m,\u001b[0m \u001b[0mconfig\u001b[0m\u001b[0;34m=\u001b[0m\u001b[0mconfig\u001b[0m\u001b[0;34m,\u001b[0m \u001b[0;34m**\u001b[0m\u001b[0mhub_kwargs\u001b[0m\u001b[0;34m,\u001b[0m \u001b[0;34m**\u001b[0m\u001b[0mkwargs\u001b[0m\u001b[0;34m\u001b[0m\u001b[0;34m\u001b[0m\u001b[0m\n\u001b[1;32m    602\u001b[0m             )\n",
            "\u001b[0;32m/usr/local/lib/python3.11/dist-packages/transformers/modeling_utils.py\u001b[0m in \u001b[0;36m_wrapper\u001b[0;34m(*args, **kwargs)\u001b[0m\n\u001b[1;32m    309\u001b[0m         \u001b[0mold_dtype\u001b[0m \u001b[0;34m=\u001b[0m \u001b[0mtorch\u001b[0m\u001b[0;34m.\u001b[0m\u001b[0mget_default_dtype\u001b[0m\u001b[0;34m(\u001b[0m\u001b[0;34m)\u001b[0m\u001b[0;34m\u001b[0m\u001b[0;34m\u001b[0m\u001b[0m\n\u001b[1;32m    310\u001b[0m         \u001b[0;32mtry\u001b[0m\u001b[0;34m:\u001b[0m\u001b[0;34m\u001b[0m\u001b[0;34m\u001b[0m\u001b[0m\n\u001b[0;32m--> 311\u001b[0;31m             \u001b[0;32mreturn\u001b[0m \u001b[0mfunc\u001b[0m\u001b[0;34m(\u001b[0m\u001b[0;34m*\u001b[0m\u001b[0margs\u001b[0m\u001b[0;34m,\u001b[0m \u001b[0;34m**\u001b[0m\u001b[0mkwargs\u001b[0m\u001b[0;34m)\u001b[0m\u001b[0;34m\u001b[0m\u001b[0;34m\u001b[0m\u001b[0m\n\u001b[0m\u001b[1;32m    312\u001b[0m         \u001b[0;32mfinally\u001b[0m\u001b[0;34m:\u001b[0m\u001b[0;34m\u001b[0m\u001b[0;34m\u001b[0m\u001b[0m\n\u001b[1;32m    313\u001b[0m             \u001b[0mtorch\u001b[0m\u001b[0;34m.\u001b[0m\u001b[0mset_default_dtype\u001b[0m\u001b[0;34m(\u001b[0m\u001b[0mold_dtype\u001b[0m\u001b[0;34m)\u001b[0m\u001b[0;34m\u001b[0m\u001b[0;34m\u001b[0m\u001b[0m\n",
            "\u001b[0;32m/usr/local/lib/python3.11/dist-packages/transformers/modeling_utils.py\u001b[0m in \u001b[0;36mfrom_pretrained\u001b[0;34m(cls, pretrained_model_name_or_path, config, cache_dir, ignore_mismatched_sizes, force_download, local_files_only, token, revision, use_safetensors, weights_only, *model_args, **kwargs)\u001b[0m\n\u001b[1;32m   4560\u001b[0m             \u001b[0mconfig_dict\u001b[0m \u001b[0;34m=\u001b[0m \u001b[0;34m{\u001b[0m\u001b[0mk\u001b[0m\u001b[0;34m:\u001b[0m \u001b[0mv\u001b[0m \u001b[0;32mfor\u001b[0m \u001b[0mk\u001b[0m\u001b[0;34m,\u001b[0m \u001b[0mv\u001b[0m \u001b[0;32min\u001b[0m \u001b[0mkwargs\u001b[0m\u001b[0;34m.\u001b[0m\u001b[0mitems\u001b[0m\u001b[0;34m(\u001b[0m\u001b[0;34m)\u001b[0m \u001b[0;32mif\u001b[0m \u001b[0mk\u001b[0m \u001b[0;32min\u001b[0m \u001b[0minspect\u001b[0m\u001b[0;34m.\u001b[0m\u001b[0msignature\u001b[0m\u001b[0;34m(\u001b[0m\u001b[0mBitsAndBytesConfig\u001b[0m\u001b[0;34m)\u001b[0m\u001b[0;34m.\u001b[0m\u001b[0mparameters\u001b[0m\u001b[0;34m}\u001b[0m\u001b[0;34m\u001b[0m\u001b[0;34m\u001b[0m\u001b[0m\n\u001b[1;32m   4561\u001b[0m             \u001b[0mconfig_dict\u001b[0m \u001b[0;34m=\u001b[0m \u001b[0;34m{\u001b[0m\u001b[0;34m**\u001b[0m\u001b[0mconfig_dict\u001b[0m\u001b[0;34m,\u001b[0m \u001b[0;34m\"load_in_4bit\"\u001b[0m\u001b[0;34m:\u001b[0m \u001b[0mload_in_4bit\u001b[0m\u001b[0;34m,\u001b[0m \u001b[0;34m\"load_in_8bit\"\u001b[0m\u001b[0;34m:\u001b[0m \u001b[0mload_in_8bit\u001b[0m\u001b[0;34m}\u001b[0m\u001b[0;34m\u001b[0m\u001b[0;34m\u001b[0m\u001b[0m\n\u001b[0;32m-> 4562\u001b[0;31m             quantization_config, kwargs = BitsAndBytesConfig.from_dict(\n\u001b[0m\u001b[1;32m   4563\u001b[0m                 \u001b[0mconfig_dict\u001b[0m\u001b[0;34m=\u001b[0m\u001b[0mconfig_dict\u001b[0m\u001b[0;34m,\u001b[0m \u001b[0mreturn_unused_kwargs\u001b[0m\u001b[0;34m=\u001b[0m\u001b[0;32mTrue\u001b[0m\u001b[0;34m,\u001b[0m \u001b[0;34m**\u001b[0m\u001b[0mkwargs\u001b[0m\u001b[0;34m\u001b[0m\u001b[0;34m\u001b[0m\u001b[0m\n\u001b[1;32m   4564\u001b[0m             )\n",
            "\u001b[0;32m/usr/local/lib/python3.11/dist-packages/transformers/utils/quantization_config.py\u001b[0m in \u001b[0;36mfrom_dict\u001b[0;34m(cls, config_dict, return_unused_kwargs, **kwargs)\u001b[0m\n\u001b[1;32m    118\u001b[0m             \u001b[0;34m[\u001b[0m\u001b[0;31m`\u001b[0m\u001b[0mQuantizationConfigMixin\u001b[0m\u001b[0;31m`\u001b[0m\u001b[0;34m]\u001b[0m\u001b[0;34m:\u001b[0m \u001b[0mThe\u001b[0m \u001b[0mconfiguration\u001b[0m \u001b[0mobject\u001b[0m \u001b[0minstantiated\u001b[0m \u001b[0;32mfrom\u001b[0m \u001b[0mthose\u001b[0m \u001b[0mparameters\u001b[0m\u001b[0;34m.\u001b[0m\u001b[0;34m\u001b[0m\u001b[0;34m\u001b[0m\u001b[0m\n\u001b[1;32m    119\u001b[0m         \"\"\"\n\u001b[0;32m--> 120\u001b[0;31m         \u001b[0mconfig\u001b[0m \u001b[0;34m=\u001b[0m \u001b[0mcls\u001b[0m\u001b[0;34m(\u001b[0m\u001b[0;34m**\u001b[0m\u001b[0mconfig_dict\u001b[0m\u001b[0;34m)\u001b[0m\u001b[0;34m\u001b[0m\u001b[0;34m\u001b[0m\u001b[0m\n\u001b[0m\u001b[1;32m    121\u001b[0m \u001b[0;34m\u001b[0m\u001b[0m\n\u001b[1;32m    122\u001b[0m         \u001b[0mto_remove\u001b[0m \u001b[0;34m=\u001b[0m \u001b[0;34m[\u001b[0m\u001b[0;34m]\u001b[0m\u001b[0;34m\u001b[0m\u001b[0;34m\u001b[0m\u001b[0m\n",
            "\u001b[0;32m/usr/local/lib/python3.11/dist-packages/transformers/utils/quantization_config.py\u001b[0m in \u001b[0;36m__init__\u001b[0;34m(self, load_in_8bit, load_in_4bit, llm_int8_threshold, llm_int8_skip_modules, llm_int8_enable_fp32_cpu_offload, llm_int8_has_fp16_weight, bnb_4bit_compute_dtype, bnb_4bit_quant_type, bnb_4bit_use_double_quant, bnb_4bit_quant_storage, **kwargs)\u001b[0m\n\u001b[1;32m    506\u001b[0m             \u001b[0mlogger\u001b[0m\u001b[0;34m.\u001b[0m\u001b[0minfo\u001b[0m\u001b[0;34m(\u001b[0m\u001b[0;34mf\"Unused kwargs: {list(kwargs.keys())}. These kwargs are not used in {self.__class__}.\"\u001b[0m\u001b[0;34m)\u001b[0m\u001b[0;34m\u001b[0m\u001b[0;34m\u001b[0m\u001b[0m\n\u001b[1;32m    507\u001b[0m \u001b[0;34m\u001b[0m\u001b[0m\n\u001b[0;32m--> 508\u001b[0;31m         \u001b[0mself\u001b[0m\u001b[0;34m.\u001b[0m\u001b[0mpost_init\u001b[0m\u001b[0;34m(\u001b[0m\u001b[0;34m)\u001b[0m\u001b[0;34m\u001b[0m\u001b[0;34m\u001b[0m\u001b[0m\n\u001b[0m\u001b[1;32m    509\u001b[0m \u001b[0;34m\u001b[0m\u001b[0m\n\u001b[1;32m    510\u001b[0m     \u001b[0;34m@\u001b[0m\u001b[0mproperty\u001b[0m\u001b[0;34m\u001b[0m\u001b[0;34m\u001b[0m\u001b[0m\n",
            "\u001b[0;32m/usr/local/lib/python3.11/dist-packages/transformers/utils/quantization_config.py\u001b[0m in \u001b[0;36mpost_init\u001b[0;34m(self)\u001b[0m\n\u001b[1;32m    564\u001b[0m             \u001b[0;32mraise\u001b[0m \u001b[0mTypeError\u001b[0m\u001b[0;34m(\u001b[0m\u001b[0;34m\"bnb_4bit_use_double_quant must be a boolean\"\u001b[0m\u001b[0;34m)\u001b[0m\u001b[0;34m\u001b[0m\u001b[0;34m\u001b[0m\u001b[0m\n\u001b[1;32m    565\u001b[0m \u001b[0;34m\u001b[0m\u001b[0m\n\u001b[0;32m--> 566\u001b[0;31m         if self.load_in_4bit and not version.parse(importlib.metadata.version(\"bitsandbytes\")) >= version.parse(\n\u001b[0m\u001b[1;32m    567\u001b[0m             \u001b[0;34m\"0.39.0\"\u001b[0m\u001b[0;34m\u001b[0m\u001b[0;34m\u001b[0m\u001b[0m\n\u001b[1;32m    568\u001b[0m         ):\n",
            "\u001b[0;32m/usr/lib/python3.11/importlib/metadata/__init__.py\u001b[0m in \u001b[0;36mversion\u001b[0;34m(distribution_name)\u001b[0m\n\u001b[1;32m   1007\u001b[0m         \u001b[0;34m\"Version\"\u001b[0m \u001b[0mmetadata\u001b[0m \u001b[0mkey\u001b[0m\u001b[0;34m.\u001b[0m\u001b[0;34m\u001b[0m\u001b[0;34m\u001b[0m\u001b[0m\n\u001b[1;32m   1008\u001b[0m     \"\"\"\n\u001b[0;32m-> 1009\u001b[0;31m     \u001b[0;32mreturn\u001b[0m \u001b[0mdistribution\u001b[0m\u001b[0;34m(\u001b[0m\u001b[0mdistribution_name\u001b[0m\u001b[0;34m)\u001b[0m\u001b[0;34m.\u001b[0m\u001b[0mversion\u001b[0m\u001b[0;34m\u001b[0m\u001b[0;34m\u001b[0m\u001b[0m\n\u001b[0m\u001b[1;32m   1010\u001b[0m \u001b[0;34m\u001b[0m\u001b[0m\n\u001b[1;32m   1011\u001b[0m \u001b[0;34m\u001b[0m\u001b[0m\n",
            "\u001b[0;32m/usr/lib/python3.11/importlib/metadata/__init__.py\u001b[0m in \u001b[0;36mdistribution\u001b[0;34m(distribution_name)\u001b[0m\n\u001b[1;32m    980\u001b[0m     \u001b[0;34m:\u001b[0m\u001b[0;32mreturn\u001b[0m\u001b[0;34m:\u001b[0m \u001b[0mA\u001b[0m\u001b[0;31m \u001b[0m\u001b[0;31m`\u001b[0m\u001b[0;31m`\u001b[0m\u001b[0mDistribution\u001b[0m\u001b[0;31m`\u001b[0m\u001b[0;31m`\u001b[0m \u001b[0minstance\u001b[0m \u001b[0;34m(\u001b[0m\u001b[0;32mor\u001b[0m \u001b[0msubclass\u001b[0m \u001b[0mthereof\u001b[0m\u001b[0;34m)\u001b[0m\u001b[0;34m.\u001b[0m\u001b[0;34m\u001b[0m\u001b[0;34m\u001b[0m\u001b[0m\n\u001b[1;32m    981\u001b[0m     \"\"\"\n\u001b[0;32m--> 982\u001b[0;31m     \u001b[0;32mreturn\u001b[0m \u001b[0mDistribution\u001b[0m\u001b[0;34m.\u001b[0m\u001b[0mfrom_name\u001b[0m\u001b[0;34m(\u001b[0m\u001b[0mdistribution_name\u001b[0m\u001b[0;34m)\u001b[0m\u001b[0;34m\u001b[0m\u001b[0;34m\u001b[0m\u001b[0m\n\u001b[0m\u001b[1;32m    983\u001b[0m \u001b[0;34m\u001b[0m\u001b[0m\n\u001b[1;32m    984\u001b[0m \u001b[0;34m\u001b[0m\u001b[0m\n",
            "\u001b[0;32m/usr/lib/python3.11/importlib/metadata/__init__.py\u001b[0m in \u001b[0;36mfrom_name\u001b[0;34m(cls, name)\u001b[0m\n\u001b[1;32m    563\u001b[0m             \u001b[0;32mreturn\u001b[0m \u001b[0mnext\u001b[0m\u001b[0;34m(\u001b[0m\u001b[0mcls\u001b[0m\u001b[0;34m.\u001b[0m\u001b[0mdiscover\u001b[0m\u001b[0;34m(\u001b[0m\u001b[0mname\u001b[0m\u001b[0;34m=\u001b[0m\u001b[0mname\u001b[0m\u001b[0;34m)\u001b[0m\u001b[0;34m)\u001b[0m\u001b[0;34m\u001b[0m\u001b[0;34m\u001b[0m\u001b[0m\n\u001b[1;32m    564\u001b[0m         \u001b[0;32mexcept\u001b[0m \u001b[0mStopIteration\u001b[0m\u001b[0;34m:\u001b[0m\u001b[0;34m\u001b[0m\u001b[0;34m\u001b[0m\u001b[0m\n\u001b[0;32m--> 565\u001b[0;31m             \u001b[0;32mraise\u001b[0m \u001b[0mPackageNotFoundError\u001b[0m\u001b[0;34m(\u001b[0m\u001b[0mname\u001b[0m\u001b[0;34m)\u001b[0m\u001b[0;34m\u001b[0m\u001b[0;34m\u001b[0m\u001b[0m\n\u001b[0m\u001b[1;32m    566\u001b[0m \u001b[0;34m\u001b[0m\u001b[0m\n\u001b[1;32m    567\u001b[0m     \u001b[0;34m@\u001b[0m\u001b[0mclassmethod\u001b[0m\u001b[0;34m\u001b[0m\u001b[0;34m\u001b[0m\u001b[0m\n",
            "\u001b[0;31mPackageNotFoundError\u001b[0m: No package metadata was found for bitsandbytes",
            "",
            "\u001b[0;31m---------------------------------------------------------------------------\u001b[0;32m\nNOTE: If your import is failing due to a missing package, you can\nmanually install dependencies using either !pip or !apt.\n\nTo view examples of installing some common dependencies, click the\n\"Open Examples\" button below.\n\u001b[0;31m---------------------------------------------------------------------------\u001b[0m\n"
          ],
          "errorDetails": {
            "actions": [
              {
                "action": "open_url",
                "actionText": "Open Examples",
                "url": "/notebooks/snippets/importing_libraries.ipynb"
              }
            ]
          }
        }
      ]
    },
    {
      "cell_type": "code",
      "source": [],
      "metadata": {
        "id": "6vuVUaMfMGJ1"
      },
      "execution_count": null,
      "outputs": []
    }
  ]
}