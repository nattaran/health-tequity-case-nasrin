{
  "nbformat": 4,
  "nbformat_minor": 0,
  "metadata": {
    "colab": {
      "provenance": [],
      "authorship_tag": "ABX9TyN9gOVQUbadp0vRuDf5k8P+",
      "include_colab_link": true
    },
    "kernelspec": {
      "name": "python3",
      "display_name": "Python 3"
    },
    "language_info": {
      "name": "python"
    }
  },
  "cells": [
    {
      "cell_type": "markdown",
      "metadata": {
        "id": "view-in-github",
        "colab_type": "text"
      },
      "source": [
        "<a href=\"https://colab.research.google.com/github/nattaran/health-tequity-case-nasrin/blob/main/VoicePipeline.ipynb\" target=\"_parent\"><img src=\"https://colab.research.google.com/assets/colab-badge.svg\" alt=\"Open In Colab\"/></a>"
      ]
    },
    {
      "cell_type": "code",
      "execution_count": null,
      "metadata": {
        "id": "Z8Rx35TvT1uu"
      },
      "outputs": [],
      "source": []
    },
    {
      "cell_type": "markdown",
      "source": [
        "**Mount Google Drive**"
      ],
      "metadata": {
        "id": "SCqyFkqgbMzP"
      }
    },
    {
      "cell_type": "code",
      "source": [
        "from google.colab import drive\n",
        "drive.mount('/content/drive')\n"
      ],
      "metadata": {
        "colab": {
          "base_uri": "https://localhost:8080/"
        },
        "id": "Fk0od9nwapa6",
        "outputId": "34960b02-d22d-4dcc-8800-aac997ab3c11"
      },
      "execution_count": 1,
      "outputs": [
        {
          "output_type": "stream",
          "name": "stdout",
          "text": [
            "Drive already mounted at /content/drive; to attempt to forcibly remount, call drive.mount(\"/content/drive\", force_remount=True).\n"
          ]
        }
      ]
    },
    {
      "cell_type": "markdown",
      "source": [],
      "metadata": {
        "id": "fZGunFw-bvKE"
      }
    },
    {
      "cell_type": "markdown",
      "source": [
        "**Set Working Directory**"
      ],
      "metadata": {
        "id": "3Uj2QQHdbvM7"
      }
    },
    {
      "cell_type": "code",
      "source": [
        "import os\n",
        "\n",
        "# Update this path to match your Google Drive folder\n",
        "BASE_DIR = '/content/drive/MyDrive/health-tequity-case'\n",
        "os.chdir(BASE_DIR)\n",
        "\n",
        "# Verify\n",
        "print(f\"✅ Current directory: {os.getcwd()}\")\n",
        "print(f\"📁 Files in directory: {os.listdir('.')}\")"
      ],
      "metadata": {
        "colab": {
          "base_uri": "https://localhost:8080/"
        },
        "id": "nN9RP39Ra-3Q",
        "outputId": "b0009eb2-34db-4aa0-f742-679246b9953b"
      },
      "execution_count": 2,
      "outputs": [
        {
          "output_type": "stream",
          "name": "stdout",
          "text": [
            "✅ Current directory: /content/drive/MyDrive/health-tequity-case\n",
            "📁 Files in directory: ['Input_Audio_Files', 'Output_Audio_Files', 'Data', 'whisper_transcriptions_with_errors.csv', 'transcriptions_only.csv', 'error_rates_summary.csv']\n"
          ]
        }
      ]
    },
    {
      "cell_type": "markdown",
      "source": [
        "**install Required Packages**\n",
        "\n",
        "\n",
        "\n",
        "\n",
        "\n",
        "\n",
        "\n",
        "\n",
        "\n",
        "\n",
        "\n",
        "\n"
      ],
      "metadata": {
        "id": "HBC5oZPzcJ0j"
      }
    },
    {
      "cell_type": "code",
      "source": [
        "# Install packages\n",
        "!pip install -q openai-whisper\n",
        "!pip install -q git+https://github.com/openai/whisper.git\n",
        "!pip install -q librosa soundfile\n",
        "!pip install -q deep-translator\n",
        "!pip install -q gtts\n",
        "!pip install -q jiwer\n",
        "\n",
        "print(\"✅ All packages installed successfully!\")"
      ],
      "metadata": {
        "colab": {
          "base_uri": "https://localhost:8080/"
        },
        "id": "O_KHF0LbXdm7",
        "outputId": "3b4fb540-432d-41ec-952b-bc10d8edfe6d"
      },
      "execution_count": 3,
      "outputs": [
        {
          "output_type": "stream",
          "name": "stdout",
          "text": [
            "  Installing build dependencies ... \u001b[?25l\u001b[?25hdone\n",
            "  Getting requirements to build wheel ... \u001b[?25l\u001b[?25hdone\n",
            "  Preparing metadata (pyproject.toml) ... \u001b[?25l\u001b[?25hdone\n",
            "✅ All packages installed successfully!\n"
          ]
        }
      ]
    },
    {
      "cell_type": "markdown",
      "source": [
        "**Import Libraries **"
      ],
      "metadata": {
        "id": "IGlBpc6sdTuD"
      }
    },
    {
      "cell_type": "code",
      "source": [
        "import whisper\n",
        "import os\n",
        "import pandas as pd\n",
        "import numpy as np\n",
        "import json\n",
        "from datetime import datetime, timedelta\n",
        "from deep_translator import GoogleTranslator\n",
        "from gtts import gTTS\n",
        "import jiwer\n",
        "from jiwer import wer, cer\n",
        "from jiwer import process_words\n",
        "import warnings\n",
        "import torch\n",
        "warnings.filterwarnings('ignore')\n",
        "\n",
        "\n",
        "print(\"✅ All libraries imported successfully!\")\n",
        "\n",
        "# Update this path to match your Google Drive folder\n"
      ],
      "metadata": {
        "colab": {
          "base_uri": "https://localhost:8080/"
        },
        "id": "xtBhcDy4UAQW",
        "outputId": "b642d05a-ab15-4a4e-c211-575e58eedb6e"
      },
      "execution_count": 4,
      "outputs": [
        {
          "output_type": "stream",
          "name": "stdout",
          "text": [
            "✅ All libraries imported successfully!\n"
          ]
        }
      ]
    },
    {
      "cell_type": "markdown",
      "source": [
        "**Accessing to the Spanish Audio Files **"
      ],
      "metadata": {
        "id": "E59WOIEdNK2S"
      }
    },
    {
      "cell_type": "code",
      "source": [
        "AUDIO_FOLDER = '/content/drive/MyDrive/health-tequity-case/Input_Audio_Files/'  # UPDATE THIS\n",
        "\n",
        "# List all WAV files in the folder\n",
        "audio_files = sorted([f for f in os.listdir(AUDIO_FOLDER) if f.endswith('.wav')])\n",
        "\n",
        "print(f\"📁 Found {len(audio_files)} WAV file(s):\")\n",
        "for filename in audio_files:\n",
        "    print(f\"  - {filename}\")"
      ],
      "metadata": {
        "id": "Z3LxD_k5ZAEf",
        "colab": {
          "base_uri": "https://localhost:8080/"
        },
        "outputId": "ff50ff48-f516-48c1-f54b-b29d95367fcd"
      },
      "execution_count": 5,
      "outputs": [
        {
          "output_type": "stream",
          "name": "stdout",
          "text": [
            "📁 Found 4 WAV file(s):\n",
            "  - q1_es.wav\n",
            "  - q2_es.wav\n",
            "  - q3_es.wav\n",
            "  - q4_es.wav\n"
          ]
        }
      ]
    },
    {
      "cell_type": "code",
      "source": [
        "GROUND_TRUTH_SPANISH = {\n",
        "    'q1_es.wav': '¿Cuáles son mis presiones sistólica y diastólica hoy?',\n",
        "    'q2_es.wav': '¿Cuáles fueron los valores durante la última semana?',\n",
        "    'q3_es.wav': '¿Cuál es la tendencia de los valores?',\n",
        "    'q4_es.wav': '¿Cuáles son los rangos normales para una persona como yo?'\n",
        "}\n",
        "\n",
        "# Ground truth English translations\n",
        "# UPDATE THESE with your actual ground truth translations\n",
        "GROUND_TRUTH_ENGLISH = {\n",
        "    'question1.wav': 'What are my systolic and diastolic blood pressures today?',\n",
        "    'question2.wav': 'What were the values over the last week?',\n",
        "    'question3.wav': 'What is the trend of the values?',\n",
        "    'question4.wav': 'What are the normal ranges for a person like me?'\n",
        "}\n",
        "\n",
        "print(\"\\n✅ Ground truth loaded for error rate calculations\")"
      ],
      "metadata": {
        "colab": {
          "base_uri": "https://localhost:8080/"
        },
        "id": "uslBv4vHOcrS",
        "outputId": "e8c5e23a-3794-4aca-fc5e-a2cc8ee9e5a3"
      },
      "execution_count": 6,
      "outputs": [
        {
          "output_type": "stream",
          "name": "stdout",
          "text": [
            "\n",
            "✅ Ground truth loaded for error rate calculations\n"
          ]
        }
      ]
    },
    {
      "cell_type": "markdown",
      "source": [],
      "metadata": {
        "id": "3n1Q03i8OqCo"
      }
    },
    {
      "cell_type": "code",
      "source": [
        "#  Load Whisper Model\n",
        "def load_whisper_model(model_size=\"medium\"):\n",
        "    \"\"\"\n",
        "    Load Whisper model for ASR\n",
        "\n",
        "    Args:\n",
        "        model_size: 'tiny', 'base', 'small', 'medium', 'large'\n",
        "                   'medium' recommended for Spanish (good accuracy/speed balance)\n",
        "\n",
        "    Returns:\n",
        "        Loaded Whisper model\n",
        "    \"\"\"\n",
        "    print(f\"🤖 Loading Whisper '{model_size}' model...\")\n",
        "    device = \"cuda\" if torch.cuda.is_available() else \"cpu\"\n",
        "    print(f\"   Device: {device}\")\n",
        "\n",
        "    model = whisper.load_model(model_size, device=device)\n",
        "    print(\"✅ Model loaded successfully!\")\n",
        "    return model\n",
        "\n",
        "# Load the model\n",
        "model = load_whisper_model(model_size=\"medium\")"
      ],
      "metadata": {
        "colab": {
          "base_uri": "https://localhost:8080/"
        },
        "id": "6knv0Q-jOpPD",
        "outputId": "329c908c-0faf-45ee-c34d-0bd95e09053e"
      },
      "execution_count": 7,
      "outputs": [
        {
          "output_type": "stream",
          "name": "stdout",
          "text": [
            "🤖 Loading Whisper 'medium' model...\n",
            "   Device: cpu\n",
            "✅ Model loaded successfully!\n"
          ]
        }
      ]
    },
    {
      "cell_type": "markdown",
      "source": [
        "# **Transcription Spanish Audio **"
      ],
      "metadata": {
        "id": "sTv3xZxcPCN5"
      }
    },
    {
      "cell_type": "code",
      "source": [
        "def transcribe_spanish_audio(model, audio_path, task=\"transcribe\"):\n",
        "    \"\"\"\n",
        "    Transcribe Spanish audio file using Whisper\n",
        "\n",
        "    Args:\n",
        "        model: Loaded Whisper model\n",
        "        audio_path: Path to WAV file\n",
        "        task: 'transcribe' (Spanish->Spanish) or 'translate' (Spanish->English)\n",
        "\n",
        "    Returns:\n",
        "        Dictionary with transcription results\n",
        "    \"\"\"\n",
        "    print(f\"🎵 Processing: {audio_path}\")\n",
        "\n",
        "    result = model.transcribe(\n",
        "        audio_path,\n",
        "        language=\"spanish\",  # Specify Spanish for better accuracy\n",
        "        task=task,\n",
        "        verbose=False\n",
        "    )\n",
        "\n",
        "    return result\n"
      ],
      "metadata": {
        "id": "z7NEvp3rO8hI"
      },
      "execution_count": 8,
      "outputs": []
    },
    {
      "cell_type": "markdown",
      "source": [
        "# **Process All Audio Files**"
      ],
      "metadata": {
        "id": "fCQ0r227PnhI"
      }
    },
    {
      "cell_type": "code",
      "source": [
        "def process_audio_files(model, audio_folder, audio_files):\n",
        "    \"\"\"\n",
        "    Process multiple Spanish audio files from Google Drive\n",
        "\n",
        "    Args:\n",
        "        model: Loaded Whisper model\n",
        "        audio_folder: Path to folder containing audio files\n",
        "        audio_files: List of audio filenames\n",
        "\n",
        "    Returns:\n",
        "        DataFrame with transcription results\n",
        "    \"\"\"\n",
        "    results = []\n",
        "\n",
        "    print(\"\\n\" + \"=\"*60)\n",
        "    print(\"🎯 TRANSCRIBING SPANISH AUDIO FILES\")\n",
        "    print(\"=\"*60)\n",
        "\n",
        "    for i, audio_file in enumerate(audio_files, 1):\n",
        "        audio_path = os.path.join(audio_folder, audio_file)\n",
        "        print(f\"\\n[{i}/{len(audio_files)}] {audio_file}\")\n",
        "\n",
        "        if not os.path.exists(audio_path):\n",
        "            print(f\"⚠️  Warning: {audio_path} not found, skipping...\")\n",
        "            continue\n",
        "\n",
        "        # Get Spanish transcription\n",
        "        spanish_result = transcribe_spanish_audio(model, audio_path, task=\"transcribe\")\n",
        "\n",
        "        # Get English translation\n",
        "        english_result = transcribe_spanish_audio(model, audio_path, task=\"translate\")\n",
        "\n",
        "        results.append({\n",
        "            'question_number': i,\n",
        "            'audio_file': audio_file,\n",
        "            'spanish_transcription': spanish_result['text'].strip(),\n",
        "            'english_translation': english_result['text'].strip(),\n",
        "            'language_detected': spanish_result['language']\n",
        "        })\n",
        "\n",
        "        print(f\"   🇪🇸 Spanish: {spanish_result['text'].strip()}\")\n",
        "        print(f\"   🇬🇧 English: {english_result['text'].strip()}\")\n",
        "\n",
        "    return pd.DataFrame(results)\n",
        "\n",
        "# Process all files from Google Drive\n",
        "results_df = process_audio_files(model, AUDIO_FOLDER, audio_files)"
      ],
      "metadata": {
        "colab": {
          "base_uri": "https://localhost:8080/"
        },
        "id": "RqJbWBB_PbvM",
        "outputId": "c5ac35e7-7606-423c-e067-a697c19f3aee"
      },
      "execution_count": 13,
      "outputs": [
        {
          "output_type": "stream",
          "name": "stdout",
          "text": [
            "\n",
            "============================================================\n",
            "🎯 TRANSCRIBING SPANISH AUDIO FILES\n",
            "============================================================\n",
            "\n",
            "[1/4] q1_es.wav\n",
            "🎵 Processing: /content/drive/MyDrive/health-tequity-case/Input_Audio_Files/q1_es.wav\n"
          ]
        },
        {
          "output_type": "stream",
          "name": "stderr",
          "text": [
            "100%|██████████| 324/324 [00:29<00:00, 11.15frames/s]\n"
          ]
        },
        {
          "output_type": "stream",
          "name": "stdout",
          "text": [
            "🎵 Processing: /content/drive/MyDrive/health-tequity-case/Input_Audio_Files/q1_es.wav\n"
          ]
        },
        {
          "output_type": "stream",
          "name": "stderr",
          "text": [
            "100%|██████████| 324/324 [00:27<00:00, 11.99frames/s]\n"
          ]
        },
        {
          "output_type": "stream",
          "name": "stdout",
          "text": [
            "   🇪🇸 Spanish: ¿Cuáles son mis valores de presión arterial hoy?\n",
            "   🇬🇧 English: What are my blood pressure values today?\n",
            "\n",
            "[2/4] q2_es.wav\n",
            "🎵 Processing: /content/drive/MyDrive/health-tequity-case/Input_Audio_Files/q2_es.wav\n"
          ]
        },
        {
          "output_type": "stream",
          "name": "stderr",
          "text": [
            "100%|██████████| 312/312 [00:28<00:00, 11.08frames/s]\n"
          ]
        },
        {
          "output_type": "stream",
          "name": "stdout",
          "text": [
            "🎵 Processing: /content/drive/MyDrive/health-tequity-case/Input_Audio_Files/q2_es.wav\n"
          ]
        },
        {
          "output_type": "stream",
          "name": "stderr",
          "text": [
            "100%|██████████| 312/312 [00:29<00:00, 10.65frames/s]\n"
          ]
        },
        {
          "output_type": "stream",
          "name": "stdout",
          "text": [
            "   🇪🇸 Spanish: ¿Cuáles fueron los valores de la última semana?\n",
            "   🇬🇧 English: What were the values ​​of the last week?\n",
            "\n",
            "[3/4] q3_es.wav\n",
            "🎵 Processing: /content/drive/MyDrive/health-tequity-case/Input_Audio_Files/q3_es.wav\n"
          ]
        },
        {
          "output_type": "stream",
          "name": "stderr",
          "text": [
            "100%|██████████| 261/261 [00:30<00:00,  8.47frames/s]\n"
          ]
        },
        {
          "output_type": "stream",
          "name": "stdout",
          "text": [
            "🎵 Processing: /content/drive/MyDrive/health-tequity-case/Input_Audio_Files/q3_es.wav\n"
          ]
        },
        {
          "output_type": "stream",
          "name": "stderr",
          "text": [
            "100%|██████████| 261/261 [00:28<00:00,  9.05frames/s]\n"
          ]
        },
        {
          "output_type": "stream",
          "name": "stdout",
          "text": [
            "   🇪🇸 Spanish: ¿Cuál es la tendencia de mis valores?\n",
            "   🇬🇧 English: What is the trend of my values?\n",
            "\n",
            "[4/4] q4_es.wav\n",
            "🎵 Processing: /content/drive/MyDrive/health-tequity-case/Input_Audio_Files/q4_es.wav\n"
          ]
        },
        {
          "output_type": "stream",
          "name": "stderr",
          "text": [
            "100%|██████████| 398/398 [00:29<00:00, 13.44frames/s]\n"
          ]
        },
        {
          "output_type": "stream",
          "name": "stdout",
          "text": [
            "🎵 Processing: /content/drive/MyDrive/health-tequity-case/Input_Audio_Files/q4_es.wav\n"
          ]
        },
        {
          "output_type": "stream",
          "name": "stderr",
          "text": [
            "100%|██████████| 398/398 [00:28<00:00, 14.21frames/s]"
          ]
        },
        {
          "output_type": "stream",
          "name": "stdout",
          "text": [
            "   🇪🇸 Spanish: ¿Cuáles son los rangos normales para una persona como yo?\n",
            "   🇬🇧 English: What are the normal ranges for a person like me?\n"
          ]
        },
        {
          "output_type": "stream",
          "name": "stderr",
          "text": [
            "\n"
          ]
        }
      ]
    },
    {
      "cell_type": "markdown",
      "source": [
        "** Error Rate Calculation Functions**"
      ],
      "metadata": {
        "id": "1cf4DnjtTxrf"
      }
    },
    {
      "cell_type": "code",
      "source": [
        "def calculate_wer(reference, hypothesis):\n",
        "    \"\"\"\n",
        "    Calculate Word Error Rate (WER)\n",
        "    WER = (Substitutions + Deletions + Insertions) / Total Words in Reference\n",
        "\n",
        "    Args:\n",
        "        reference: Ground truth text\n",
        "        hypothesis: Predicted/transcribed text\n",
        "\n",
        "    Returns:\n",
        "        WER score (0-1), detailed metrics\n",
        "    \"\"\"\n",
        "    # Normalize text (lowercase, strip)\n",
        "    ref = reference.lower().strip()\n",
        "    hyp = hypothesis.lower().strip()\n",
        "\n",
        "    # Calculate WER\n",
        "    wer_score = wer(ref, hyp)\n",
        "\n",
        "    # Get detailed measures\n",
        "    output= process_words(ref, hyp)\n",
        "\n",
        "    return {\n",
        "        'wer': wer_score,\n",
        "        'substitutions': output.substitutions,\n",
        "        'deletions': output.deletions,\n",
        "        'insertions': output.insertions,\n",
        "        'hits': output.hits\n",
        "    }\n",
        "\n",
        "def calculate_cer(reference, hypothesis):\n",
        "    \"\"\"\n",
        "    Calculate Character Error Rate (CER)\n",
        "    CER = (Character Substitutions + Deletions + Insertions) / Total Characters\n",
        "\n",
        "    Args:\n",
        "        reference: Ground truth text\n",
        "        hypothesis: Predicted/transcribed text\n",
        "\n",
        "    Returns:\n",
        "        CER score (0-1)\n",
        "    \"\"\"\n",
        "    ref = reference.lower().strip()\n",
        "    hyp = hypothesis.lower().strip()\n",
        "\n",
        "    cer_score = cer(ref, hyp)\n",
        "    return cer_score\n",
        "\n",
        "def calculate_ser(reference, hypothesis):\n",
        "    \"\"\"\n",
        "    Calculate Sentence Error Rate (SER)\n",
        "    SER = 1 if sentences don't match exactly, 0 if they match\n",
        "\n",
        "    Args:\n",
        "        reference: Ground truth text\n",
        "        hypothesis: Predicted/transcribed text\n",
        "\n",
        "    Returns:\n",
        "        SER score (0 or 1)\n",
        "    \"\"\"\n",
        "    # Normalize for comparison\n",
        "    ref = reference.lower().strip()\n",
        "    hyp = hypothesis.lower().strip()\n",
        "\n",
        "    # SER is 0 if exact match, 1 if not\n",
        "    ser_score = 0 if ref == hyp else 1\n",
        "    return ser_score\n",
        "\n",
        "def calculate_all_error_rates(results_df, ground_truth_spanish):\n",
        "    \"\"\"\n",
        "    Calculate all error rates for Spanish and English transcriptions\n",
        "\n",
        "    Args:\n",
        "        results_df: DataFrame with transcription results\n",
        "        ground_truth_spanish: Dictionary of ground truth Spanish text\n",
        "        ground_truth_english: Dictionary of ground truth English text\n",
        "\n",
        "    Returns:\n",
        "        DataFrame with error rates\n",
        "    \"\"\"\n",
        "    error_rates = []\n",
        "\n",
        "    for idx, row in results_df.iterrows():\n",
        "        audio_file = row['audio_file']\n",
        "\n",
        "        # Spanish error rates (ASR accuracy)\n",
        "        if audio_file in ground_truth_spanish:\n",
        "            spanish_gt = ground_truth_spanish[audio_file]\n",
        "            spanish_hyp = row['spanish_transcription']\n",
        "\n",
        "            spanish_wer_details = calculate_wer(spanish_gt, spanish_hyp)\n",
        "            spanish_cer_score = calculate_cer(spanish_gt, spanish_hyp)\n",
        "            spanish_ser_score = calculate_ser(spanish_gt, spanish_hyp)\n",
        "        else:\n",
        "            spanish_wer_details = {'wer': None, 'substitutions': None, 'deletions': None, 'insertions': None, 'hits': None}\n",
        "            spanish_cer_score = None\n",
        "            spanish_ser_score = None\n",
        "\n",
        "        # English error rates (Translation accuracy)\n",
        "        # if audio_file in ground_truth_english:\n",
        "        #     english_gt = ground_truth_english[audio_file]\n",
        "        #     english_hyp = row['english_translation']\n",
        "\n",
        "        #     english_wer_details = calculate_wer(english_gt, english_hyp)\n",
        "        #     english_cer_score = calculate_cer(english_gt, english_hyp)\n",
        "        #     english_ser_score = calculate_ser(english_gt, english_hyp)\n",
        "        # else:\n",
        "        #     english_wer_details = {'wer': None, 'substitutions': None, 'deletions': None, 'insertions': None, 'hits': None}\n",
        "        #     english_cer_score = None\n",
        "        #     english_ser_score = None\n",
        "\n",
        "        error_rates.append({\n",
        "            'question_number': row['question_number'],\n",
        "            'audio_file': audio_file,\n",
        "\n",
        "            # Spanish metrics\n",
        "            'spanish_wer': spanish_wer_details['wer'],\n",
        "            'spanish_substitutions': spanish_wer_details['substitutions'],\n",
        "            'spanish_deletions': spanish_wer_details['deletions'],\n",
        "            'spanish_insertions': spanish_wer_details['insertions'],\n",
        "            'spanish_cer': spanish_cer_score,\n",
        "            'spanish_ser': spanish_ser_score,\n",
        "\n",
        "            # English metrics\n",
        "            # 'english_wer': english_wer_details['wer'],\n",
        "            # 'english_substitutions': english_wer_details['substitutions'],\n",
        "            # 'english_deletions': english_wer_details['deletions'],\n",
        "            # 'english_insertions': english_wer_details['insertions'],\n",
        "            # 'english_cer': english_cer_score,\n",
        "            # 'english_ser': english_ser_score\n",
        "        })\n",
        "\n",
        "    return pd.DataFrame(error_rates)\n",
        "\n",
        "# Calculate error rates\n",
        "print(\"\\n\" + \"=\"*60)\n",
        "print(\"📊 CALCULATING ERROR RATES\")\n",
        "print(\"=\"*60)\n",
        "\n",
        "error_rates_df = calculate_all_error_rates(results_df, GROUND_TRUTH_SPANISH)\n",
        "\n",
        "# Merge with original results\n",
        "full_results_df = results_df.merge(error_rates_df, on=['question_number', 'audio_file'])"
      ],
      "metadata": {
        "colab": {
          "base_uri": "https://localhost:8080/"
        },
        "id": "pS7Y16uDP1I5",
        "outputId": "cb14bbb4-83e5-4613-cc96-c2392e9f612d"
      },
      "execution_count": 14,
      "outputs": [
        {
          "output_type": "stream",
          "name": "stdout",
          "text": [
            "\n",
            "============================================================\n",
            "📊 CALCULATING ERROR RATES\n",
            "============================================================\n"
          ]
        }
      ]
    },
    {
      "cell_type": "markdown",
      "source": [
        "Display Results with Error Rates"
      ],
      "metadata": {
        "id": "qNO4IxAfWS-i"
      }
    },
    {
      "cell_type": "code",
      "source": [
        "# ============================================\n",
        "# CELL 7: Display Results with Error Rates\n",
        "# ============================================\n",
        "display_cols = ['question_number', 'audio_file', 'spanish_wer', 'spanish_cer',\n",
        "                'spanish_ser']  #, 'english_wer', 'english_cer', 'english_ser']\n",
        "print(full_results_df[display_cols].to_string(index=False))\n",
        "\n",
        "# Calculate averages (skip None values)\n",
        "print(\"\\n\" + \"=\"*60)\n",
        "print(\"📈 AVERAGE ERROR RATES\")\n",
        "print(\"=\"*60)\n",
        "\n",
        "# Spanish metrics\n",
        "spanish_wer_mean = full_results_df['spanish_wer'].dropna().mean()\n",
        "spanish_cer_mean = full_results_df['spanish_cer'].dropna().mean()\n",
        "spanish_ser_mean = full_results_df['spanish_ser'].dropna().mean()\n",
        "\n",
        "print(f\"Spanish ASR:\")\n",
        "if not pd.isna(spanish_wer_mean):\n",
        "    print(f\"  Average WER: {spanish_wer_mean:.4f} ({spanish_wer_mean*100:.2f}%)\")\n",
        "    print(f\"  Average CER: {spanish_cer_mean:.4f} ({spanish_cer_mean*100:.2f}%)\")\n",
        "    print(f\"  Average SER: {spanish_ser_mean:.4f} ({spanish_ser_mean*100:.2f}%)\")\n",
        "else:\n",
        "    print(f\"  ⚠️  No ground truth available for Spanish ASR\")\n",
        "\n",
        "# English metrics\n",
        "# english_wer_mean = full_results_df['english_wer'].dropna().mean()\n",
        "# english_cer_mean = full_results_df['english_cer'].dropna().mean()\n",
        "# english_ser_mean = full_results_df['english_ser'].dropna().mean()\n",
        "\n",
        "# print(f\"\\nEnglish Translation:\")\n",
        "# if not pd.isna(english_wer_mean):\n",
        "#     print(f\"  Average WER: {english_wer_mean:.4f} ({english_wer_mean*100:.2f}%)\")\n",
        "#     print(f\"  Average CER: {english_cer_mean:.4f} ({english_cer_mean*100:.2f}%)\")\n",
        "#     print(f\"  Average SER: {english_ser_mean:.4f} ({english_ser_mean*100:.2f}%)\")\n",
        "# else:\n",
        "#     print(f\"  ⚠️  No ground truth available for English translation\")\n",
        "\n",
        "# ============================================\n",
        "# SAVE RESULTS\n",
        "# ============================================\n",
        "print(\"\\n\" + \"=\"*60)\n",
        "print(\"💾 SAVING RESULTS\")\n",
        "print(\"=\"*60)\n",
        "\n",
        "# Save full results with all columns\n",
        "output_file_full = \"whisper_transcriptions_with_errors.csv\"\n",
        "full_results_df.to_csv(output_file_full, index=False)\n",
        "print(f\"✅ Full results saved to: {output_file_full}\")\n",
        "\n",
        "# Save transcriptions only (simplified)\n",
        "transcriptions_only = full_results_df[['question_number', 'audio_file',\n",
        "                                        'spanish_transcription', 'english_translation']].copy()\n",
        "output_file_transcriptions = \"transcriptions_only.csv\"\n",
        "transcriptions_only.to_csv(output_file_transcriptions, index=False)\n",
        "print(f\"✅ Transcriptions only saved to: {output_file_transcriptions}\")\n",
        "\n",
        "# Save error rates summary\n",
        "error_summary = full_results_df[['question_number', 'audio_file',\n",
        "                                  'spanish_wer', 'spanish_cer', 'spanish_ser']].copy()\n",
        "output_file_errors = \"error_rates_summary.csv\"\n",
        "error_summary.to_csv(output_file_errors, index=False)\n",
        "print(f\"✅ Error rates summary saved to: {output_file_errors}\")\n",
        "\n",
        "# Save to Google Drive (if mounted)\n",
        "try:\n",
        "    # Try to save to Drive if it's mounted\n",
        "    drive_output_folder = '/content/drive/MyDrive/health_tequity_results/'\n",
        "    os.makedirs(drive_output_folder, exist_ok=True)\n",
        "\n",
        "    full_results_df.to_csv(os.path.join(drive_output_folder, output_file_full), index=False)\n",
        "    transcriptions_only.to_csv(os.path.join(drive_output_folder, output_file_transcriptions), index=False)\n",
        "    error_summary.to_csv(os.path.join(drive_output_folder, output_file_errors), index=False)\n",
        "\n",
        "    print(f\"\\n✅ All files also saved to Google Drive: {drive_output_folder}\")\n",
        "except:\n",
        "    print(\"\\n⚠️  Google Drive not mounted - files saved locally only\")\n",
        "\n",
        "# Download files to your computer\n",
        "print(\"\\n📥 Download files to your computer:\")\n",
        "from google.colab import files\n",
        "files.download(output_file_full)\n",
        "files.download(output_file_transcriptions)\n",
        "files.download(output_file_errors)\n",
        "\n",
        "print(\"\\n✅ All results saved successfully!\")"
      ],
      "metadata": {
        "colab": {
          "base_uri": "https://localhost:8080/",
          "height": 482
        },
        "id": "DBUCBm1nUOdu",
        "outputId": "bfe39888-fcdc-4352-d211-ff6f9236e757"
      },
      "execution_count": 16,
      "outputs": [
        {
          "output_type": "stream",
          "name": "stdout",
          "text": [
            " question_number audio_file  spanish_wer  spanish_cer  spanish_ser\n",
            "               1  q1_es.wav     0.500000     0.452830            1\n",
            "               2  q2_es.wav     0.125000     0.096154            1\n",
            "               3  q3_es.wav     0.142857     0.054054            1\n",
            "               4  q4_es.wav     0.000000     0.000000            0\n",
            "\n",
            "============================================================\n",
            "📈 AVERAGE ERROR RATES\n",
            "============================================================\n",
            "Spanish ASR:\n",
            "  Average WER: 0.1920 (19.20%)\n",
            "  Average CER: 0.1508 (15.08%)\n",
            "  Average SER: 0.7500 (75.00%)\n",
            "\n",
            "============================================================\n",
            "💾 SAVING RESULTS\n",
            "============================================================\n",
            "✅ Full results saved to: whisper_transcriptions_with_errors.csv\n",
            "✅ Transcriptions only saved to: transcriptions_only.csv\n",
            "✅ Error rates summary saved to: error_rates_summary.csv\n",
            "\n",
            "✅ All files also saved to Google Drive: /content/drive/MyDrive/health_tequity_results/\n",
            "\n",
            "📥 Download files to your computer:\n"
          ]
        },
        {
          "output_type": "display_data",
          "data": {
            "text/plain": [
              "<IPython.core.display.Javascript object>"
            ],
            "application/javascript": [
              "\n",
              "    async function download(id, filename, size) {\n",
              "      if (!google.colab.kernel.accessAllowed) {\n",
              "        return;\n",
              "      }\n",
              "      const div = document.createElement('div');\n",
              "      const label = document.createElement('label');\n",
              "      label.textContent = `Downloading \"${filename}\": `;\n",
              "      div.appendChild(label);\n",
              "      const progress = document.createElement('progress');\n",
              "      progress.max = size;\n",
              "      div.appendChild(progress);\n",
              "      document.body.appendChild(div);\n",
              "\n",
              "      const buffers = [];\n",
              "      let downloaded = 0;\n",
              "\n",
              "      const channel = await google.colab.kernel.comms.open(id);\n",
              "      // Send a message to notify the kernel that we're ready.\n",
              "      channel.send({})\n",
              "\n",
              "      for await (const message of channel.messages) {\n",
              "        // Send a message to notify the kernel that we're ready.\n",
              "        channel.send({})\n",
              "        if (message.buffers) {\n",
              "          for (const buffer of message.buffers) {\n",
              "            buffers.push(buffer);\n",
              "            downloaded += buffer.byteLength;\n",
              "            progress.value = downloaded;\n",
              "          }\n",
              "        }\n",
              "      }\n",
              "      const blob = new Blob(buffers, {type: 'application/binary'});\n",
              "      const a = document.createElement('a');\n",
              "      a.href = window.URL.createObjectURL(blob);\n",
              "      a.download = filename;\n",
              "      div.appendChild(a);\n",
              "      a.click();\n",
              "      div.remove();\n",
              "    }\n",
              "  "
            ]
          },
          "metadata": {}
        },
        {
          "output_type": "display_data",
          "data": {
            "text/plain": [
              "<IPython.core.display.Javascript object>"
            ],
            "application/javascript": [
              "download(\"download_33d17cc8-f5e7-488a-a298-8dd829e6e4b2\", \"whisper_transcriptions_with_errors.csv\", 761)"
            ]
          },
          "metadata": {}
        },
        {
          "output_type": "display_data",
          "data": {
            "text/plain": [
              "<IPython.core.display.Javascript object>"
            ],
            "application/javascript": [
              "\n",
              "    async function download(id, filename, size) {\n",
              "      if (!google.colab.kernel.accessAllowed) {\n",
              "        return;\n",
              "      }\n",
              "      const div = document.createElement('div');\n",
              "      const label = document.createElement('label');\n",
              "      label.textContent = `Downloading \"${filename}\": `;\n",
              "      div.appendChild(label);\n",
              "      const progress = document.createElement('progress');\n",
              "      progress.max = size;\n",
              "      div.appendChild(progress);\n",
              "      document.body.appendChild(div);\n",
              "\n",
              "      const buffers = [];\n",
              "      let downloaded = 0;\n",
              "\n",
              "      const channel = await google.colab.kernel.comms.open(id);\n",
              "      // Send a message to notify the kernel that we're ready.\n",
              "      channel.send({})\n",
              "\n",
              "      for await (const message of channel.messages) {\n",
              "        // Send a message to notify the kernel that we're ready.\n",
              "        channel.send({})\n",
              "        if (message.buffers) {\n",
              "          for (const buffer of message.buffers) {\n",
              "            buffers.push(buffer);\n",
              "            downloaded += buffer.byteLength;\n",
              "            progress.value = downloaded;\n",
              "          }\n",
              "        }\n",
              "      }\n",
              "      const blob = new Blob(buffers, {type: 'application/binary'});\n",
              "      const a = document.createElement('a');\n",
              "      a.href = window.URL.createObjectURL(blob);\n",
              "      a.download = filename;\n",
              "      div.appendChild(a);\n",
              "      a.click();\n",
              "      div.remove();\n",
              "    }\n",
              "  "
            ]
          },
          "metadata": {}
        },
        {
          "output_type": "display_data",
          "data": {
            "text/plain": [
              "<IPython.core.display.Javascript object>"
            ],
            "application/javascript": [
              "download(\"download_79a504c9-f414-455f-9891-e09a9642ebde\", \"transcriptions_only.csv\", 487)"
            ]
          },
          "metadata": {}
        },
        {
          "output_type": "display_data",
          "data": {
            "text/plain": [
              "<IPython.core.display.Javascript object>"
            ],
            "application/javascript": [
              "\n",
              "    async function download(id, filename, size) {\n",
              "      if (!google.colab.kernel.accessAllowed) {\n",
              "        return;\n",
              "      }\n",
              "      const div = document.createElement('div');\n",
              "      const label = document.createElement('label');\n",
              "      label.textContent = `Downloading \"${filename}\": `;\n",
              "      div.appendChild(label);\n",
              "      const progress = document.createElement('progress');\n",
              "      progress.max = size;\n",
              "      div.appendChild(progress);\n",
              "      document.body.appendChild(div);\n",
              "\n",
              "      const buffers = [];\n",
              "      let downloaded = 0;\n",
              "\n",
              "      const channel = await google.colab.kernel.comms.open(id);\n",
              "      // Send a message to notify the kernel that we're ready.\n",
              "      channel.send({})\n",
              "\n",
              "      for await (const message of channel.messages) {\n",
              "        // Send a message to notify the kernel that we're ready.\n",
              "        channel.send({})\n",
              "        if (message.buffers) {\n",
              "          for (const buffer of message.buffers) {\n",
              "            buffers.push(buffer);\n",
              "            downloaded += buffer.byteLength;\n",
              "            progress.value = downloaded;\n",
              "          }\n",
              "        }\n",
              "      }\n",
              "      const blob = new Blob(buffers, {type: 'application/binary'});\n",
              "      const a = document.createElement('a');\n",
              "      a.href = window.URL.createObjectURL(blob);\n",
              "      a.download = filename;\n",
              "      div.appendChild(a);\n",
              "      a.click();\n",
              "      div.remove();\n",
              "    }\n",
              "  "
            ]
          },
          "metadata": {}
        },
        {
          "output_type": "display_data",
          "data": {
            "text/plain": [
              "<IPython.core.display.Javascript object>"
            ],
            "application/javascript": [
              "download(\"download_85281ef6-0a94-4c10-a002-62eb3e0b1b2e\", \"error_rates_summary.csv\", 216)"
            ]
          },
          "metadata": {}
        },
        {
          "output_type": "stream",
          "name": "stdout",
          "text": [
            "\n",
            "✅ All results saved successfully!\n"
          ]
        }
      ]
    },
    {
      "cell_type": "markdown",
      "source": [
        "Save Results"
      ],
      "metadata": {
        "id": "_99qcHNtWs6W"
      }
    },
    {
      "cell_type": "markdown",
      "source": [
        "Display Individual Results with Comparision"
      ],
      "metadata": {
        "id": "NSgaaG_9XEGf"
      }
    },
    {
      "cell_type": "code",
      "source": [
        "print(\"\\n\" + \"=\"*60)\n",
        "print(\"📝 DETAILED TRANSCRIPTIONS WITH GROUND TRUTH COMPARISON\")\n",
        "print(\"=\"*60)\n",
        "\n",
        "for idx, row in full_results_df.iterrows():\n",
        "    print(f\"\\n{'='*60}\")\n",
        "    print(f\"Question {row['question_number']}: {row['audio_file']}\")\n",
        "    print(f\"{'='*60}\")\n",
        "\n",
        "    # Spanish comparison\n",
        "    print(f\"\\n🇪🇸 SPANISH:\")\n",
        "    audio_file = row['audio_file']\n",
        "    if audio_file in GROUND_TRUTH_SPANISH:\n",
        "        print(f\"  Ground Truth: {GROUND_TRUTH_SPANISH[audio_file]}\")\n",
        "        print(f\"  Transcribed:  {row['spanish_transcription']}\")\n",
        "\n",
        "        # Display metrics if available\n",
        "        if row['spanish_wer'] is not None:\n",
        "            print(f\"  WER: {row['spanish_wer']:.4f} | CER: {row['spanish_cer']:.4f} | SER: {row['spanish_ser']}\")\n",
        "            print(f\"  Errors: Subs={row['spanish_substitutions']}, Dels={row['spanish_deletions']}, Ins={row['spanish_insertions']}\")\n",
        "        else:\n",
        "            print(f\"  ⚠️  No ground truth available for error calculation\")\n",
        "    else:\n",
        "        print(f\"  Transcribed:  {row['spanish_transcription']}\")\n",
        "        print(f\"  ⚠️  No ground truth available\")\n",
        "\n",
        "    # # English comparison\n",
        "    # print(f\"\\n🇬🇧 ENGLISH:\")\n",
        "    # if audio_file in GROUND_TRUTH_ENGLISH:\n",
        "    #     print(f\"  Ground Truth: {GROUND_TRUTH_ENGLISH[audio_file]}\")\n",
        "    #     print(f\"  Translated:   {row['english_translation']}\")\n",
        "\n",
        "    #     # Display metrics if available\n",
        "    #     if row['english_wer'] is not None:\n",
        "    #         print(f\"  WER: {row['english_wer']:.4f} | CER: {row['english_cer']:.4f} | SER: {row['english_ser']}\")\n",
        "    #         print(f\"  Errors: Subs={row['english_substitutions']}, Dels={row['english_deletions']}, Ins={row['english_insertions']}\")\n",
        "    #     else:\n",
        "    #         print(f\"  ⚠️  No ground truth available for error calculation\")\n",
        "    # else:\n",
        "    #     print(f\"  Translated:   {row['english_translation']}\")\n",
        "    #     print(f\"  ⚠️  No ground truth available\")\n",
        "    print()"
      ],
      "metadata": {
        "colab": {
          "base_uri": "https://localhost:8080/"
        },
        "id": "YgSuvBnOXLR6",
        "outputId": "9b1f04c3-310c-4635-d9f3-788688f743fe"
      },
      "execution_count": 18,
      "outputs": [
        {
          "output_type": "stream",
          "name": "stdout",
          "text": [
            "\n",
            "============================================================\n",
            "📝 DETAILED TRANSCRIPTIONS WITH GROUND TRUTH COMPARISON\n",
            "============================================================\n",
            "\n",
            "============================================================\n",
            "Question 1: q1_es.wav\n",
            "============================================================\n",
            "\n",
            "🇪🇸 SPANISH:\n",
            "  Ground Truth: ¿Cuáles son mis presiones sistólica y diastólica hoy?\n",
            "  Transcribed:  ¿Cuáles son mis valores de presión arterial hoy?\n",
            "  WER: 0.5000 | CER: 0.4528 | SER: 1\n",
            "  Errors: Subs=4, Dels=0, Ins=0\n",
            "\n",
            "\n",
            "============================================================\n",
            "Question 2: q2_es.wav\n",
            "============================================================\n",
            "\n",
            "🇪🇸 SPANISH:\n",
            "  Ground Truth: ¿Cuáles fueron los valores durante la última semana?\n",
            "  Transcribed:  ¿Cuáles fueron los valores de la última semana?\n",
            "  WER: 0.1250 | CER: 0.0962 | SER: 1\n",
            "  Errors: Subs=1, Dels=0, Ins=0\n",
            "\n",
            "\n",
            "============================================================\n",
            "Question 3: q3_es.wav\n",
            "============================================================\n",
            "\n",
            "🇪🇸 SPANISH:\n",
            "  Ground Truth: ¿Cuál es la tendencia de los valores?\n",
            "  Transcribed:  ¿Cuál es la tendencia de mis valores?\n",
            "  WER: 0.1429 | CER: 0.0541 | SER: 1\n",
            "  Errors: Subs=1, Dels=0, Ins=0\n",
            "\n",
            "\n",
            "============================================================\n",
            "Question 4: q4_es.wav\n",
            "============================================================\n",
            "\n",
            "🇪🇸 SPANISH:\n",
            "  Ground Truth: ¿Cuáles son los rangos normales para una persona como yo?\n",
            "  Transcribed:  ¿Cuáles son los rangos normales para una persona como yo?\n",
            "  WER: 0.0000 | CER: 0.0000 | SER: 0\n",
            "  Errors: Subs=0, Dels=0, Ins=0\n",
            "\n"
          ]
        }
      ]
    },
    {
      "cell_type": "code",
      "source": [],
      "metadata": {
        "id": "hhwghRtXgFPd"
      },
      "execution_count": null,
      "outputs": []
    }
  ]
}