{
  "nbformat": 4,
  "nbformat_minor": 0,
  "metadata": {
    "colab": {
      "provenance": [],
      "authorship_tag": "ABX9TyPV2gr2im503MnjD042uzv3",
      "include_colab_link": true
    },
    "kernelspec": {
      "name": "python3",
      "display_name": "Python 3"
    },
    "language_info": {
      "name": "python"
    }
  },
  "cells": [
    {
      "cell_type": "markdown",
      "metadata": {
        "id": "view-in-github",
        "colab_type": "text"
      },
      "source": [
        "<a href=\"https://colab.research.google.com/github/nattaran/health-tequity-case-nasrin/blob/main/Generate_Spanish_Audio.ipynb\" target=\"_parent\"><img src=\"https://colab.research.google.com/assets/colab-badge.svg\" alt=\"Open In Colab\"/></a>"
      ]
    },
    {
      "cell_type": "code",
      "source": [
        " !pip install gtts"
      ],
      "metadata": {
        "id": "sB2JqfudCNS_",
        "colab": {
          "base_uri": "https://localhost:8080/"
        },
        "outputId": "a17e8c13-97f5-43e7-89a2-e296fe626fec"
      },
      "execution_count": 3,
      "outputs": [
        {
          "output_type": "stream",
          "name": "stdout",
          "text": [
            "Collecting gtts\n",
            "  Downloading gTTS-2.5.4-py3-none-any.whl.metadata (4.1 kB)\n",
            "Requirement already satisfied: requests<3,>=2.27 in /usr/local/lib/python3.12/dist-packages (from gtts) (2.32.4)\n",
            "Collecting click<8.2,>=7.1 (from gtts)\n",
            "  Downloading click-8.1.8-py3-none-any.whl.metadata (2.3 kB)\n",
            "Requirement already satisfied: charset_normalizer<4,>=2 in /usr/local/lib/python3.12/dist-packages (from requests<3,>=2.27->gtts) (3.4.4)\n",
            "Requirement already satisfied: idna<4,>=2.5 in /usr/local/lib/python3.12/dist-packages (from requests<3,>=2.27->gtts) (3.11)\n",
            "Requirement already satisfied: urllib3<3,>=1.21.1 in /usr/local/lib/python3.12/dist-packages (from requests<3,>=2.27->gtts) (2.5.0)\n",
            "Requirement already satisfied: certifi>=2017.4.17 in /usr/local/lib/python3.12/dist-packages (from requests<3,>=2.27->gtts) (2025.10.5)\n",
            "Downloading gTTS-2.5.4-py3-none-any.whl (29 kB)\n",
            "Downloading click-8.1.8-py3-none-any.whl (98 kB)\n",
            "\u001b[?25l   \u001b[90m━━━━━━━━━━━━━━━━━━━━━━━━━━━━━━━━━━━━━━━━\u001b[0m \u001b[32m0.0/98.2 kB\u001b[0m \u001b[31m?\u001b[0m eta \u001b[36m-:--:--\u001b[0m\r\u001b[2K   \u001b[90m━━━━━━━━━━━━━━━━━━━━━━━━━━━━━━━━━━━━━━━━\u001b[0m \u001b[32m98.2/98.2 kB\u001b[0m \u001b[31m4.5 MB/s\u001b[0m eta \u001b[36m0:00:00\u001b[0m\n",
            "\u001b[?25hInstalling collected packages: click, gtts\n",
            "  Attempting uninstall: click\n",
            "    Found existing installation: click 8.3.0\n",
            "    Uninstalling click-8.3.0:\n",
            "      Successfully uninstalled click-8.3.0\n",
            "Successfully installed click-8.1.8 gtts-2.5.4\n"
          ]
        }
      ]
    },
    {
      "cell_type": "code",
      "source": [
        "!pip install -q deep-translator"
      ],
      "metadata": {
        "colab": {
          "base_uri": "https://localhost:8080/"
        },
        "id": "ueacprFwQouw",
        "outputId": "155312b2-6703-4bf7-902f-b5051a3c63e4"
      },
      "execution_count": 7,
      "outputs": [
        {
          "output_type": "stream",
          "name": "stdout",
          "text": [
            "\u001b[?25l   \u001b[90m━━━━━━━━━━━━━━━━━━━━━━━━━━━━━━━━━━━━━━━━\u001b[0m \u001b[32m0.0/42.3 kB\u001b[0m \u001b[31m?\u001b[0m eta \u001b[36m-:--:--\u001b[0m\r\u001b[2K   \u001b[90m━━━━━━━━━━━━━━━━━━━━━━━━━━━━━━━━━━━━━━━━\u001b[0m \u001b[32m42.3/42.3 kB\u001b[0m \u001b[31m3.0 MB/s\u001b[0m eta \u001b[36m0:00:00\u001b[0m\n",
            "\u001b[?25h"
          ]
        }
      ]
    },
    {
      "cell_type": "markdown",
      "source": [
        "#Text -> Spanish Audio Generator (Clean Folder Each Run)\n"
      ],
      "metadata": {
        "id": "kWN0M2Ql7yD9"
      }
    },
    {
      "cell_type": "code",
      "source": [],
      "metadata": {
        "id": "ovOMLFNR8e85"
      },
      "execution_count": null,
      "outputs": []
    },
    {
      "cell_type": "code",
      "source": [
        "# ================================================================\n",
        "# 🗣️  ENGLISH → SPANISH AUDIO GENERATION MODULE (Colab + Drive)\n",
        "# ================================================================\n",
        "\n",
        "from gtts import gTTS\n",
        "from deep_translator import GoogleTranslator\n",
        "import os, pandas as pd\n",
        "\n",
        "def generate_spanish_audio_from_english(\n",
        "    english_questions: list[str],\n",
        "    output_folder: str,\n",
        "    prefix: str = \"q\"\n",
        "):\n",
        "    \"\"\"\n",
        "    Translates each English question into Spanish, generates new Spanish audio files,\n",
        "    and saves both 'generated_questions.csv' and 'ground_truth.csv' for later pipeline steps.\n",
        "\n",
        "    Args:\n",
        "        english_questions: list of English question strings\n",
        "        output_folder: path to save generated .wav files\n",
        "        prefix: filename prefix for generated audio files (default 'q')\n",
        "\n",
        "    Returns:\n",
        "        DataFrame containing English text, Spanish translation, and audio filenames\n",
        "    \"\"\"\n",
        "\n",
        "    # ============================================================\n",
        "    # 🧹 Step 1: Create or clean the output folder\n",
        "    # ============================================================\n",
        "    if os.path.exists(output_folder):\n",
        "        print(f\"🧹 Cleaning old files in {output_folder} ...\")\n",
        "        for f in os.listdir(output_folder):\n",
        "            fp = os.path.join(output_folder, f)\n",
        "            if os.path.isfile(fp):\n",
        "                os.remove(fp)\n",
        "    else:\n",
        "        os.makedirs(output_folder, exist_ok=True)\n",
        "        print(f\"📁 Created new folder: {output_folder}\")\n",
        "\n",
        "    # ============================================================\n",
        "    # 🌍 Step 2: Translate English → Spanish and generate audio\n",
        "    # ============================================================\n",
        "    translator = GoogleTranslator(source=\"en\", target=\"es\")\n",
        "    results = []\n",
        "\n",
        "    for i, question_en in enumerate(english_questions, 1):\n",
        "        try:\n",
        "            # Translate English → Spanish\n",
        "            question_es = translator.translate(question_en)\n",
        "\n",
        "            # Generate audio (Spanish)\n",
        "            tts = gTTS(text=question_es, lang=\"es\")\n",
        "            audio_filename = f\"{prefix}{i}_es.wav\"\n",
        "            audio_path = os.path.join(output_folder, audio_filename)\n",
        "            tts.save(audio_path)\n",
        "\n",
        "            results.append({\n",
        "                \"question_number\": i,\n",
        "                \"english_text\": question_en,\n",
        "                \"spanish_text\": question_es,\n",
        "                \"audio_file\": audio_filename\n",
        "            })\n",
        "\n",
        "            print(f\"🎧 {audio_filename} generated → {question_es}\")\n",
        "\n",
        "        except Exception as e:\n",
        "            print(f\"⚠️ Error generating audio for question {i}: {e}\")\n",
        "\n",
        "    # ============================================================\n",
        "    # 🧾 Step 3: Save CSV files\n",
        "    # ============================================================\n",
        "\n",
        "    # Summary of generated questions\n",
        "    summary_csv = os.path.join(output_folder, \"generated_questions.csv\")\n",
        "    pd.DataFrame(results).to_csv(summary_csv, index=False, encoding=\"utf-8-sig\")\n",
        "\n",
        "    # Ground truth file for WER evaluation\n",
        "    gt_df = pd.DataFrame({\n",
        "        \"audio_file\": [r[\"audio_file\"] for r in results],\n",
        "        \"ground_truth\": [r[\"spanish_text\"] for r in results]\n",
        "    })\n",
        "    gt_csv = os.path.join(output_folder, \"ground_truth.csv\")\n",
        "    gt_df.to_csv(gt_csv, index=False, encoding=\"utf-8-sig\")\n",
        "\n",
        "    # ============================================================\n",
        "    # ✅ Step 4: Display Summary\n",
        "    # ============================================================\n",
        "    print(f\"\\n✅ {len(results)} Spanish audio files generated and saved to: {output_folder}\")\n",
        "    print(f\"📄 Summary saved to: {summary_csv}\")\n",
        "    print(f\"📄 Ground truth saved to: {gt_csv}\")\n",
        "\n",
        "    return pd.DataFrame(results)\n"
      ],
      "metadata": {
        "id": "CRC1SrSPG8Rx"
      },
      "execution_count": 8,
      "outputs": []
    },
    {
      "cell_type": "code",
      "source": [
        "# ============================================================\n",
        "# 1️⃣ Mount Google Drive\n",
        "# ============================================================\n",
        "from google.colab import drive\n",
        "drive.mount('/content/drive')\n",
        "\n",
        "# ============================================================\n",
        "# 2️⃣ Define your folder path in Drive\n",
        "# ============================================================\n",
        "AUDIO_INPUT_FOLDER = \"/content/drive/MyDrive/health-tequity-case/Input_Audio_Files\"\n",
        "\n",
        "# ============================================================\n",
        "# 3️⃣ Define your English questions\n",
        "# ============================================================\n",
        "english_questions = [\n",
        "    \"What are my systolic and diastolic blood pressures today?\",\n",
        "    \"What were my blood pressure values over the last week?\",\n",
        "    \"What is the trend of my blood pressure values?\",\n",
        "    \"What are the normal ranges for a person like me?\",\n",
        "    \"What was my blood pressure on October 10th?\",\n",
        "    \"On which day did my blood pressure exceed normal levels?\"\n",
        "    \"Compare my average blood pressure in the first week and last week of this month.\"\n",
        "    \"What was my lowest diastolic blood pressure this month?\"\n",
        "\n",
        "\n",
        "]\n",
        "\n",
        "# ============================================================\n",
        "# 4️⃣ Generate Spanish audio files and CSVs\n",
        "# ============================================================\n",
        "audio_summary_df = generate_spanish_audio_from_english(\n",
        "    english_questions,\n",
        "    output_folder=AUDIO_INPUT_FOLDER\n",
        ")\n",
        "\n",
        "display(audio_summary_df)\n"
      ],
      "metadata": {
        "id": "UbTkzIJJ-kJC",
        "colab": {
          "base_uri": "https://localhost:8080/",
          "height": 356
        },
        "outputId": "044b3653-cc64-4311-b824-60124923fdce"
      },
      "execution_count": 9,
      "outputs": [
        {
          "output_type": "error",
          "ename": "KeyboardInterrupt",
          "evalue": "",
          "traceback": [
            "\u001b[0;31m---------------------------------------------------------------------------\u001b[0m",
            "\u001b[0;31mKeyboardInterrupt\u001b[0m                         Traceback (most recent call last)",
            "\u001b[0;32m/tmp/ipython-input-57354754.py\u001b[0m in \u001b[0;36m<cell line: 0>\u001b[0;34m()\u001b[0m\n\u001b[1;32m      3\u001b[0m \u001b[0;31m# ============================================================\u001b[0m\u001b[0;34m\u001b[0m\u001b[0;34m\u001b[0m\u001b[0m\n\u001b[1;32m      4\u001b[0m \u001b[0;32mfrom\u001b[0m \u001b[0mgoogle\u001b[0m\u001b[0;34m.\u001b[0m\u001b[0mcolab\u001b[0m \u001b[0;32mimport\u001b[0m \u001b[0mdrive\u001b[0m\u001b[0;34m\u001b[0m\u001b[0;34m\u001b[0m\u001b[0m\n\u001b[0;32m----> 5\u001b[0;31m \u001b[0mdrive\u001b[0m\u001b[0;34m.\u001b[0m\u001b[0mmount\u001b[0m\u001b[0;34m(\u001b[0m\u001b[0;34m'/content/drive'\u001b[0m\u001b[0;34m)\u001b[0m\u001b[0;34m\u001b[0m\u001b[0;34m\u001b[0m\u001b[0m\n\u001b[0m\u001b[1;32m      6\u001b[0m \u001b[0;34m\u001b[0m\u001b[0m\n\u001b[1;32m      7\u001b[0m \u001b[0;31m# ============================================================\u001b[0m\u001b[0;34m\u001b[0m\u001b[0;34m\u001b[0m\u001b[0m\n",
            "\u001b[0;32m/usr/local/lib/python3.12/dist-packages/google/colab/drive.py\u001b[0m in \u001b[0;36mmount\u001b[0;34m(mountpoint, force_remount, timeout_ms, readonly)\u001b[0m\n\u001b[1;32m     95\u001b[0m \u001b[0;32mdef\u001b[0m \u001b[0mmount\u001b[0m\u001b[0;34m(\u001b[0m\u001b[0mmountpoint\u001b[0m\u001b[0;34m,\u001b[0m \u001b[0mforce_remount\u001b[0m\u001b[0;34m=\u001b[0m\u001b[0;32mFalse\u001b[0m\u001b[0;34m,\u001b[0m \u001b[0mtimeout_ms\u001b[0m\u001b[0;34m=\u001b[0m\u001b[0;36m120000\u001b[0m\u001b[0;34m,\u001b[0m \u001b[0mreadonly\u001b[0m\u001b[0;34m=\u001b[0m\u001b[0;32mFalse\u001b[0m\u001b[0;34m)\u001b[0m\u001b[0;34m:\u001b[0m\u001b[0;34m\u001b[0m\u001b[0;34m\u001b[0m\u001b[0m\n\u001b[1;32m     96\u001b[0m   \u001b[0;34m\"\"\"Mount your Google Drive at the specified mountpoint path.\"\"\"\u001b[0m\u001b[0;34m\u001b[0m\u001b[0;34m\u001b[0m\u001b[0m\n\u001b[0;32m---> 97\u001b[0;31m   return _mount(\n\u001b[0m\u001b[1;32m     98\u001b[0m       \u001b[0mmountpoint\u001b[0m\u001b[0;34m,\u001b[0m\u001b[0;34m\u001b[0m\u001b[0;34m\u001b[0m\u001b[0m\n\u001b[1;32m     99\u001b[0m       \u001b[0mforce_remount\u001b[0m\u001b[0;34m=\u001b[0m\u001b[0mforce_remount\u001b[0m\u001b[0;34m,\u001b[0m\u001b[0;34m\u001b[0m\u001b[0;34m\u001b[0m\u001b[0m\n",
            "\u001b[0;32m/usr/local/lib/python3.12/dist-packages/google/colab/drive.py\u001b[0m in \u001b[0;36m_mount\u001b[0;34m(mountpoint, force_remount, timeout_ms, ephemeral, readonly)\u001b[0m\n\u001b[1;32m    132\u001b[0m   )\n\u001b[1;32m    133\u001b[0m   \u001b[0;32mif\u001b[0m \u001b[0mephemeral\u001b[0m\u001b[0;34m:\u001b[0m\u001b[0;34m\u001b[0m\u001b[0;34m\u001b[0m\u001b[0m\n\u001b[0;32m--> 134\u001b[0;31m     _message.blocking_request(\n\u001b[0m\u001b[1;32m    135\u001b[0m         \u001b[0;34m'request_auth'\u001b[0m\u001b[0;34m,\u001b[0m\u001b[0;34m\u001b[0m\u001b[0;34m\u001b[0m\u001b[0m\n\u001b[1;32m    136\u001b[0m         \u001b[0mrequest\u001b[0m\u001b[0;34m=\u001b[0m\u001b[0;34m{\u001b[0m\u001b[0;34m'authType'\u001b[0m\u001b[0;34m:\u001b[0m \u001b[0;34m'dfs_ephemeral'\u001b[0m\u001b[0;34m}\u001b[0m\u001b[0;34m,\u001b[0m\u001b[0;34m\u001b[0m\u001b[0;34m\u001b[0m\u001b[0m\n",
            "\u001b[0;32m/usr/local/lib/python3.12/dist-packages/google/colab/_message.py\u001b[0m in \u001b[0;36mblocking_request\u001b[0;34m(request_type, request, timeout_sec, parent)\u001b[0m\n\u001b[1;32m    174\u001b[0m       \u001b[0mrequest_type\u001b[0m\u001b[0;34m,\u001b[0m \u001b[0mrequest\u001b[0m\u001b[0;34m,\u001b[0m \u001b[0mparent\u001b[0m\u001b[0;34m=\u001b[0m\u001b[0mparent\u001b[0m\u001b[0;34m,\u001b[0m \u001b[0mexpect_reply\u001b[0m\u001b[0;34m=\u001b[0m\u001b[0;32mTrue\u001b[0m\u001b[0;34m\u001b[0m\u001b[0;34m\u001b[0m\u001b[0m\n\u001b[1;32m    175\u001b[0m   )\n\u001b[0;32m--> 176\u001b[0;31m   \u001b[0;32mreturn\u001b[0m \u001b[0mread_reply_from_input\u001b[0m\u001b[0;34m(\u001b[0m\u001b[0mrequest_id\u001b[0m\u001b[0;34m,\u001b[0m \u001b[0mtimeout_sec\u001b[0m\u001b[0;34m)\u001b[0m\u001b[0;34m\u001b[0m\u001b[0;34m\u001b[0m\u001b[0m\n\u001b[0m",
            "\u001b[0;32m/usr/local/lib/python3.12/dist-packages/google/colab/_message.py\u001b[0m in \u001b[0;36mread_reply_from_input\u001b[0;34m(message_id, timeout_sec)\u001b[0m\n\u001b[1;32m     94\u001b[0m     \u001b[0mreply\u001b[0m \u001b[0;34m=\u001b[0m \u001b[0m_read_next_input_message\u001b[0m\u001b[0;34m(\u001b[0m\u001b[0;34m)\u001b[0m\u001b[0;34m\u001b[0m\u001b[0;34m\u001b[0m\u001b[0m\n\u001b[1;32m     95\u001b[0m     \u001b[0;32mif\u001b[0m \u001b[0mreply\u001b[0m \u001b[0;34m==\u001b[0m \u001b[0m_NOT_READY\u001b[0m \u001b[0;32mor\u001b[0m \u001b[0;32mnot\u001b[0m \u001b[0misinstance\u001b[0m\u001b[0;34m(\u001b[0m\u001b[0mreply\u001b[0m\u001b[0;34m,\u001b[0m \u001b[0mdict\u001b[0m\u001b[0;34m)\u001b[0m\u001b[0;34m:\u001b[0m\u001b[0;34m\u001b[0m\u001b[0;34m\u001b[0m\u001b[0m\n\u001b[0;32m---> 96\u001b[0;31m       \u001b[0mtime\u001b[0m\u001b[0;34m.\u001b[0m\u001b[0msleep\u001b[0m\u001b[0;34m(\u001b[0m\u001b[0;36m0.025\u001b[0m\u001b[0;34m)\u001b[0m\u001b[0;34m\u001b[0m\u001b[0;34m\u001b[0m\u001b[0m\n\u001b[0m\u001b[1;32m     97\u001b[0m       \u001b[0;32mcontinue\u001b[0m\u001b[0;34m\u001b[0m\u001b[0;34m\u001b[0m\u001b[0m\n\u001b[1;32m     98\u001b[0m     if (\n",
            "\u001b[0;31mKeyboardInterrupt\u001b[0m: "
          ]
        }
      ]
    },
    {
      "cell_type": "code",
      "source": [],
      "metadata": {
        "id": "fla9f8VFRaOL"
      },
      "execution_count": null,
      "outputs": []
    }
  ]
}